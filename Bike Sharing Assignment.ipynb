{
 "cells": [
  {
   "cell_type": "markdown",
   "metadata": {},
   "source": [
    "## 1. Importing the libraries "
   ]
  },
  {
   "cell_type": "code",
   "execution_count": 2,
   "metadata": {
    "scrolled": true
   },
   "outputs": [],
   "source": [
    "#importing the libraries\n",
    "import pandas as pd\n",
    "import numpy as np\n",
    "import matplotlib.pyplot as plt\n",
    "import seaborn as sns\n",
    "import warnings\n",
    "warnings.filterwarnings('ignore')\n",
    "\n",
    "import statsmodels\n",
    "import statsmodels.api as sm\n",
    "from sklearn.model_selection import train_test_split\n",
    "from sklearn.preprocessing import StandardScaler\n",
    "from statsmodels.stats.outliers_influence import variance_inflation_factor\n",
    "\n",
    "from sklearn.preprocessing import MinMaxScaler\n",
    "from sklearn.linear_model import LinearRegression\n",
    "from sklearn.feature_selection import RFE\n",
    "from sklearn.metrics import r2_score"
   ]
  },
  {
   "cell_type": "markdown",
   "metadata": {},
   "source": [
    "## 2. Reading Data and Data Understanding "
   ]
  },
  {
   "cell_type": "code",
   "execution_count": 3,
   "metadata": {},
   "outputs": [],
   "source": [
    "#loading the data into the dataframe\n",
    "bikesharing = pd.read_csv('day.csv')"
   ]
  },
  {
   "cell_type": "code",
   "execution_count": 4,
   "metadata": {},
   "outputs": [
    {
     "data": {
      "text/html": [
       "<div>\n",
       "<style scoped>\n",
       "    .dataframe tbody tr th:only-of-type {\n",
       "        vertical-align: middle;\n",
       "    }\n",
       "\n",
       "    .dataframe tbody tr th {\n",
       "        vertical-align: top;\n",
       "    }\n",
       "\n",
       "    .dataframe thead th {\n",
       "        text-align: right;\n",
       "    }\n",
       "</style>\n",
       "<table border=\"1\" class=\"dataframe\">\n",
       "  <thead>\n",
       "    <tr style=\"text-align: right;\">\n",
       "      <th></th>\n",
       "      <th>instant</th>\n",
       "      <th>dteday</th>\n",
       "      <th>season</th>\n",
       "      <th>yr</th>\n",
       "      <th>mnth</th>\n",
       "      <th>holiday</th>\n",
       "      <th>weekday</th>\n",
       "      <th>workingday</th>\n",
       "      <th>weathersit</th>\n",
       "      <th>temp</th>\n",
       "      <th>atemp</th>\n",
       "      <th>hum</th>\n",
       "      <th>windspeed</th>\n",
       "      <th>casual</th>\n",
       "      <th>registered</th>\n",
       "      <th>cnt</th>\n",
       "    </tr>\n",
       "  </thead>\n",
       "  <tbody>\n",
       "    <tr>\n",
       "      <th>0</th>\n",
       "      <td>1</td>\n",
       "      <td>01-01-2018</td>\n",
       "      <td>1</td>\n",
       "      <td>0</td>\n",
       "      <td>1</td>\n",
       "      <td>0</td>\n",
       "      <td>6</td>\n",
       "      <td>0</td>\n",
       "      <td>2</td>\n",
       "      <td>14.110847</td>\n",
       "      <td>18.18125</td>\n",
       "      <td>80.5833</td>\n",
       "      <td>10.749882</td>\n",
       "      <td>331</td>\n",
       "      <td>654</td>\n",
       "      <td>985</td>\n",
       "    </tr>\n",
       "    <tr>\n",
       "      <th>1</th>\n",
       "      <td>2</td>\n",
       "      <td>02-01-2018</td>\n",
       "      <td>1</td>\n",
       "      <td>0</td>\n",
       "      <td>1</td>\n",
       "      <td>0</td>\n",
       "      <td>0</td>\n",
       "      <td>0</td>\n",
       "      <td>2</td>\n",
       "      <td>14.902598</td>\n",
       "      <td>17.68695</td>\n",
       "      <td>69.6087</td>\n",
       "      <td>16.652113</td>\n",
       "      <td>131</td>\n",
       "      <td>670</td>\n",
       "      <td>801</td>\n",
       "    </tr>\n",
       "    <tr>\n",
       "      <th>2</th>\n",
       "      <td>3</td>\n",
       "      <td>03-01-2018</td>\n",
       "      <td>1</td>\n",
       "      <td>0</td>\n",
       "      <td>1</td>\n",
       "      <td>0</td>\n",
       "      <td>1</td>\n",
       "      <td>1</td>\n",
       "      <td>1</td>\n",
       "      <td>8.050924</td>\n",
       "      <td>9.47025</td>\n",
       "      <td>43.7273</td>\n",
       "      <td>16.636703</td>\n",
       "      <td>120</td>\n",
       "      <td>1229</td>\n",
       "      <td>1349</td>\n",
       "    </tr>\n",
       "    <tr>\n",
       "      <th>3</th>\n",
       "      <td>4</td>\n",
       "      <td>04-01-2018</td>\n",
       "      <td>1</td>\n",
       "      <td>0</td>\n",
       "      <td>1</td>\n",
       "      <td>0</td>\n",
       "      <td>2</td>\n",
       "      <td>1</td>\n",
       "      <td>1</td>\n",
       "      <td>8.200000</td>\n",
       "      <td>10.60610</td>\n",
       "      <td>59.0435</td>\n",
       "      <td>10.739832</td>\n",
       "      <td>108</td>\n",
       "      <td>1454</td>\n",
       "      <td>1562</td>\n",
       "    </tr>\n",
       "    <tr>\n",
       "      <th>4</th>\n",
       "      <td>5</td>\n",
       "      <td>05-01-2018</td>\n",
       "      <td>1</td>\n",
       "      <td>0</td>\n",
       "      <td>1</td>\n",
       "      <td>0</td>\n",
       "      <td>3</td>\n",
       "      <td>1</td>\n",
       "      <td>1</td>\n",
       "      <td>9.305237</td>\n",
       "      <td>11.46350</td>\n",
       "      <td>43.6957</td>\n",
       "      <td>12.522300</td>\n",
       "      <td>82</td>\n",
       "      <td>1518</td>\n",
       "      <td>1600</td>\n",
       "    </tr>\n",
       "  </tbody>\n",
       "</table>\n",
       "</div>"
      ],
      "text/plain": [
       "   instant      dteday  season  yr  mnth  holiday  weekday  workingday  \\\n",
       "0        1  01-01-2018       1   0     1        0        6           0   \n",
       "1        2  02-01-2018       1   0     1        0        0           0   \n",
       "2        3  03-01-2018       1   0     1        0        1           1   \n",
       "3        4  04-01-2018       1   0     1        0        2           1   \n",
       "4        5  05-01-2018       1   0     1        0        3           1   \n",
       "\n",
       "   weathersit       temp     atemp      hum  windspeed  casual  registered  \\\n",
       "0           2  14.110847  18.18125  80.5833  10.749882     331         654   \n",
       "1           2  14.902598  17.68695  69.6087  16.652113     131         670   \n",
       "2           1   8.050924   9.47025  43.7273  16.636703     120        1229   \n",
       "3           1   8.200000  10.60610  59.0435  10.739832     108        1454   \n",
       "4           1   9.305237  11.46350  43.6957  12.522300      82        1518   \n",
       "\n",
       "    cnt  \n",
       "0   985  \n",
       "1   801  \n",
       "2  1349  \n",
       "3  1562  \n",
       "4  1600  "
      ]
     },
     "execution_count": 4,
     "metadata": {},
     "output_type": "execute_result"
    }
   ],
   "source": [
    "bikesharing.head()"
   ]
  },
  {
   "cell_type": "code",
   "execution_count": 5,
   "metadata": {},
   "outputs": [
    {
     "data": {
      "text/plain": [
       "(730, 16)"
      ]
     },
     "execution_count": 5,
     "metadata": {},
     "output_type": "execute_result"
    }
   ],
   "source": [
    "#shape of the dataset\n",
    "bikesharing.shape"
   ]
  },
  {
   "cell_type": "code",
   "execution_count": 6,
   "metadata": {},
   "outputs": [
    {
     "name": "stdout",
     "output_type": "stream",
     "text": [
      "<class 'pandas.core.frame.DataFrame'>\n",
      "RangeIndex: 730 entries, 0 to 729\n",
      "Data columns (total 16 columns):\n",
      " #   Column      Non-Null Count  Dtype  \n",
      "---  ------      --------------  -----  \n",
      " 0   instant     730 non-null    int64  \n",
      " 1   dteday      730 non-null    object \n",
      " 2   season      730 non-null    int64  \n",
      " 3   yr          730 non-null    int64  \n",
      " 4   mnth        730 non-null    int64  \n",
      " 5   holiday     730 non-null    int64  \n",
      " 6   weekday     730 non-null    int64  \n",
      " 7   workingday  730 non-null    int64  \n",
      " 8   weathersit  730 non-null    int64  \n",
      " 9   temp        730 non-null    float64\n",
      " 10  atemp       730 non-null    float64\n",
      " 11  hum         730 non-null    float64\n",
      " 12  windspeed   730 non-null    float64\n",
      " 13  casual      730 non-null    int64  \n",
      " 14  registered  730 non-null    int64  \n",
      " 15  cnt         730 non-null    int64  \n",
      "dtypes: float64(4), int64(11), object(1)\n",
      "memory usage: 91.4+ KB\n"
     ]
    }
   ],
   "source": [
    "#checking the summary of the dataset\n",
    "bikesharing.info()"
   ]
  },
  {
   "cell_type": "code",
   "execution_count": 7,
   "metadata": {
    "scrolled": true
   },
   "outputs": [
    {
     "data": {
      "text/html": [
       "<div>\n",
       "<style scoped>\n",
       "    .dataframe tbody tr th:only-of-type {\n",
       "        vertical-align: middle;\n",
       "    }\n",
       "\n",
       "    .dataframe tbody tr th {\n",
       "        vertical-align: top;\n",
       "    }\n",
       "\n",
       "    .dataframe thead th {\n",
       "        text-align: right;\n",
       "    }\n",
       "</style>\n",
       "<table border=\"1\" class=\"dataframe\">\n",
       "  <thead>\n",
       "    <tr style=\"text-align: right;\">\n",
       "      <th></th>\n",
       "      <th>instant</th>\n",
       "      <th>season</th>\n",
       "      <th>yr</th>\n",
       "      <th>mnth</th>\n",
       "      <th>holiday</th>\n",
       "      <th>weekday</th>\n",
       "      <th>workingday</th>\n",
       "      <th>weathersit</th>\n",
       "      <th>temp</th>\n",
       "      <th>atemp</th>\n",
       "      <th>hum</th>\n",
       "      <th>windspeed</th>\n",
       "      <th>casual</th>\n",
       "      <th>registered</th>\n",
       "      <th>cnt</th>\n",
       "    </tr>\n",
       "  </thead>\n",
       "  <tbody>\n",
       "    <tr>\n",
       "      <th>count</th>\n",
       "      <td>730.000000</td>\n",
       "      <td>730.000000</td>\n",
       "      <td>730.000000</td>\n",
       "      <td>730.000000</td>\n",
       "      <td>730.000000</td>\n",
       "      <td>730.000000</td>\n",
       "      <td>730.000000</td>\n",
       "      <td>730.000000</td>\n",
       "      <td>730.000000</td>\n",
       "      <td>730.000000</td>\n",
       "      <td>730.000000</td>\n",
       "      <td>730.000000</td>\n",
       "      <td>730.000000</td>\n",
       "      <td>730.000000</td>\n",
       "      <td>730.000000</td>\n",
       "    </tr>\n",
       "    <tr>\n",
       "      <th>mean</th>\n",
       "      <td>365.500000</td>\n",
       "      <td>2.498630</td>\n",
       "      <td>0.500000</td>\n",
       "      <td>6.526027</td>\n",
       "      <td>0.028767</td>\n",
       "      <td>2.997260</td>\n",
       "      <td>0.683562</td>\n",
       "      <td>1.394521</td>\n",
       "      <td>20.319259</td>\n",
       "      <td>23.726322</td>\n",
       "      <td>62.765175</td>\n",
       "      <td>12.763620</td>\n",
       "      <td>849.249315</td>\n",
       "      <td>3658.757534</td>\n",
       "      <td>4508.006849</td>\n",
       "    </tr>\n",
       "    <tr>\n",
       "      <th>std</th>\n",
       "      <td>210.877136</td>\n",
       "      <td>1.110184</td>\n",
       "      <td>0.500343</td>\n",
       "      <td>3.450215</td>\n",
       "      <td>0.167266</td>\n",
       "      <td>2.006161</td>\n",
       "      <td>0.465405</td>\n",
       "      <td>0.544807</td>\n",
       "      <td>7.506729</td>\n",
       "      <td>8.150308</td>\n",
       "      <td>14.237589</td>\n",
       "      <td>5.195841</td>\n",
       "      <td>686.479875</td>\n",
       "      <td>1559.758728</td>\n",
       "      <td>1936.011647</td>\n",
       "    </tr>\n",
       "    <tr>\n",
       "      <th>min</th>\n",
       "      <td>1.000000</td>\n",
       "      <td>1.000000</td>\n",
       "      <td>0.000000</td>\n",
       "      <td>1.000000</td>\n",
       "      <td>0.000000</td>\n",
       "      <td>0.000000</td>\n",
       "      <td>0.000000</td>\n",
       "      <td>1.000000</td>\n",
       "      <td>2.424346</td>\n",
       "      <td>3.953480</td>\n",
       "      <td>0.000000</td>\n",
       "      <td>1.500244</td>\n",
       "      <td>2.000000</td>\n",
       "      <td>20.000000</td>\n",
       "      <td>22.000000</td>\n",
       "    </tr>\n",
       "    <tr>\n",
       "      <th>25%</th>\n",
       "      <td>183.250000</td>\n",
       "      <td>2.000000</td>\n",
       "      <td>0.000000</td>\n",
       "      <td>4.000000</td>\n",
       "      <td>0.000000</td>\n",
       "      <td>1.000000</td>\n",
       "      <td>0.000000</td>\n",
       "      <td>1.000000</td>\n",
       "      <td>13.811885</td>\n",
       "      <td>16.889713</td>\n",
       "      <td>52.000000</td>\n",
       "      <td>9.041650</td>\n",
       "      <td>316.250000</td>\n",
       "      <td>2502.250000</td>\n",
       "      <td>3169.750000</td>\n",
       "    </tr>\n",
       "    <tr>\n",
       "      <th>50%</th>\n",
       "      <td>365.500000</td>\n",
       "      <td>3.000000</td>\n",
       "      <td>0.500000</td>\n",
       "      <td>7.000000</td>\n",
       "      <td>0.000000</td>\n",
       "      <td>3.000000</td>\n",
       "      <td>1.000000</td>\n",
       "      <td>1.000000</td>\n",
       "      <td>20.465826</td>\n",
       "      <td>24.368225</td>\n",
       "      <td>62.625000</td>\n",
       "      <td>12.125325</td>\n",
       "      <td>717.000000</td>\n",
       "      <td>3664.500000</td>\n",
       "      <td>4548.500000</td>\n",
       "    </tr>\n",
       "    <tr>\n",
       "      <th>75%</th>\n",
       "      <td>547.750000</td>\n",
       "      <td>3.000000</td>\n",
       "      <td>1.000000</td>\n",
       "      <td>10.000000</td>\n",
       "      <td>0.000000</td>\n",
       "      <td>5.000000</td>\n",
       "      <td>1.000000</td>\n",
       "      <td>2.000000</td>\n",
       "      <td>26.880615</td>\n",
       "      <td>30.445775</td>\n",
       "      <td>72.989575</td>\n",
       "      <td>15.625589</td>\n",
       "      <td>1096.500000</td>\n",
       "      <td>4783.250000</td>\n",
       "      <td>5966.000000</td>\n",
       "    </tr>\n",
       "    <tr>\n",
       "      <th>max</th>\n",
       "      <td>730.000000</td>\n",
       "      <td>4.000000</td>\n",
       "      <td>1.000000</td>\n",
       "      <td>12.000000</td>\n",
       "      <td>1.000000</td>\n",
       "      <td>6.000000</td>\n",
       "      <td>1.000000</td>\n",
       "      <td>3.000000</td>\n",
       "      <td>35.328347</td>\n",
       "      <td>42.044800</td>\n",
       "      <td>97.250000</td>\n",
       "      <td>34.000021</td>\n",
       "      <td>3410.000000</td>\n",
       "      <td>6946.000000</td>\n",
       "      <td>8714.000000</td>\n",
       "    </tr>\n",
       "  </tbody>\n",
       "</table>\n",
       "</div>"
      ],
      "text/plain": [
       "          instant      season          yr        mnth     holiday     weekday  \\\n",
       "count  730.000000  730.000000  730.000000  730.000000  730.000000  730.000000   \n",
       "mean   365.500000    2.498630    0.500000    6.526027    0.028767    2.997260   \n",
       "std    210.877136    1.110184    0.500343    3.450215    0.167266    2.006161   \n",
       "min      1.000000    1.000000    0.000000    1.000000    0.000000    0.000000   \n",
       "25%    183.250000    2.000000    0.000000    4.000000    0.000000    1.000000   \n",
       "50%    365.500000    3.000000    0.500000    7.000000    0.000000    3.000000   \n",
       "75%    547.750000    3.000000    1.000000   10.000000    0.000000    5.000000   \n",
       "max    730.000000    4.000000    1.000000   12.000000    1.000000    6.000000   \n",
       "\n",
       "       workingday  weathersit        temp       atemp         hum   windspeed  \\\n",
       "count  730.000000  730.000000  730.000000  730.000000  730.000000  730.000000   \n",
       "mean     0.683562    1.394521   20.319259   23.726322   62.765175   12.763620   \n",
       "std      0.465405    0.544807    7.506729    8.150308   14.237589    5.195841   \n",
       "min      0.000000    1.000000    2.424346    3.953480    0.000000    1.500244   \n",
       "25%      0.000000    1.000000   13.811885   16.889713   52.000000    9.041650   \n",
       "50%      1.000000    1.000000   20.465826   24.368225   62.625000   12.125325   \n",
       "75%      1.000000    2.000000   26.880615   30.445775   72.989575   15.625589   \n",
       "max      1.000000    3.000000   35.328347   42.044800   97.250000   34.000021   \n",
       "\n",
       "            casual   registered          cnt  \n",
       "count   730.000000   730.000000   730.000000  \n",
       "mean    849.249315  3658.757534  4508.006849  \n",
       "std     686.479875  1559.758728  1936.011647  \n",
       "min       2.000000    20.000000    22.000000  \n",
       "25%     316.250000  2502.250000  3169.750000  \n",
       "50%     717.000000  3664.500000  4548.500000  \n",
       "75%    1096.500000  4783.250000  5966.000000  \n",
       "max    3410.000000  6946.000000  8714.000000  "
      ]
     },
     "execution_count": 7,
     "metadata": {},
     "output_type": "execute_result"
    }
   ],
   "source": [
    "#checking the descriptive statistics of the dataset\n",
    "bikesharing.describe()"
   ]
  },
  {
   "cell_type": "code",
   "execution_count": 8,
   "metadata": {},
   "outputs": [
    {
     "data": {
      "text/plain": [
       "Index(['instant', 'dteday', 'season', 'yr', 'mnth', 'holiday', 'weekday',\n",
       "       'workingday', 'weathersit', 'temp', 'atemp', 'hum', 'windspeed',\n",
       "       'casual', 'registered', 'cnt'],\n",
       "      dtype='object')"
      ]
     },
     "execution_count": 8,
     "metadata": {},
     "output_type": "execute_result"
    }
   ],
   "source": [
    "#checking the columns of the dataset\n",
    "bikesharing.columns"
   ]
  },
  {
   "cell_type": "code",
   "execution_count": 9,
   "metadata": {},
   "outputs": [
    {
     "data": {
      "text/plain": [
       "instant         int64\n",
       "dteday         object\n",
       "season          int64\n",
       "yr              int64\n",
       "mnth            int64\n",
       "holiday         int64\n",
       "weekday         int64\n",
       "workingday      int64\n",
       "weathersit      int64\n",
       "temp          float64\n",
       "atemp         float64\n",
       "hum           float64\n",
       "windspeed     float64\n",
       "casual          int64\n",
       "registered      int64\n",
       "cnt             int64\n",
       "dtype: object"
      ]
     },
     "execution_count": 9,
     "metadata": {},
     "output_type": "execute_result"
    }
   ],
   "source": [
    "#checking the data types of each column of the dataset\n",
    "bikesharing.dtypes"
   ]
  },
  {
   "cell_type": "markdown",
   "metadata": {},
   "source": [
    "Analysis -\n",
    "- In the bike-sharing dataset, there are 730 rows and 16 columns.\n",
    "- 'cnt' is the target variable in the dataset."
   ]
  },
  {
   "cell_type": "markdown",
   "metadata": {},
   "source": [
    "## 3. Data Cleaning "
   ]
  },
  {
   "cell_type": "markdown",
   "metadata": {},
   "source": [
    "#### Checking for null values in the dataset "
   ]
  },
  {
   "cell_type": "code",
   "execution_count": 10,
   "metadata": {},
   "outputs": [
    {
     "data": {
      "text/plain": [
       "instant       0\n",
       "dteday        0\n",
       "season        0\n",
       "yr            0\n",
       "mnth          0\n",
       "holiday       0\n",
       "weekday       0\n",
       "workingday    0\n",
       "weathersit    0\n",
       "temp          0\n",
       "atemp         0\n",
       "hum           0\n",
       "windspeed     0\n",
       "casual        0\n",
       "registered    0\n",
       "cnt           0\n",
       "dtype: int64"
      ]
     },
     "execution_count": 10,
     "metadata": {},
     "output_type": "execute_result"
    }
   ],
   "source": [
    "#null values in the dataset\n",
    "bikesharing.isnull().sum()"
   ]
  },
  {
   "cell_type": "markdown",
   "metadata": {},
   "source": [
    "#### Checking for Duplicate Values in the dataset "
   ]
  },
  {
   "cell_type": "code",
   "execution_count": 11,
   "metadata": {},
   "outputs": [],
   "source": [
    "#creating a copy of dataset and dropping the duplicate values\n",
    "bikesharing_dup = bikesharing\n",
    "bikesharing_dup.drop_duplicates(subset = None, inplace = True)"
   ]
  },
  {
   "cell_type": "code",
   "execution_count": 12,
   "metadata": {},
   "outputs": [
    {
     "data": {
      "text/plain": [
       "(730, 16)"
      ]
     },
     "execution_count": 12,
     "metadata": {},
     "output_type": "execute_result"
    }
   ],
   "source": [
    "#checking the rows of the duplicate dataset\n",
    "bikesharing.shape"
   ]
  },
  {
   "cell_type": "markdown",
   "metadata": {},
   "source": [
    "Analysis -\n",
    "- We can see that there are no missing or null values in the dataset.\n",
    "- Also, we can see that there are exactly same rows and columns in both original and copy dataset, hnce, there are no duplicate values in the dataset."
   ]
  },
  {
   "cell_type": "markdown",
   "metadata": {},
   "source": [
    "#### Dropping the columns that are not useful for analysis "
   ]
  },
  {
   "cell_type": "markdown",
   "metadata": {},
   "source": [
    "Looking at the data dictionary of the dataset, we can conclude the following about the columns - \n",
    "- instant - We can see that the instant column is an index column, so we will drop it.\n",
    "- dteday - We can see that this is the date column, which is already there in other columns, so will will drop it.\n",
    "- casual and registered - we can see that the target variable i.e. cnt is the sum of casual and registered, so we will drop these two columns."
   ]
  },
  {
   "cell_type": "code",
   "execution_count": 13,
   "metadata": {},
   "outputs": [],
   "source": [
    "#before dropping, creating a new column days_old which indicates how old is the business \n",
    "bikesharing['days_old'] = (pd.to_datetime(bikesharing['dteday'],format= '%d-%m-%Y') - pd.to_datetime('01-01-2018',format= '%d-%m-%Y')).dt.days"
   ]
  },
  {
   "cell_type": "code",
   "execution_count": 14,
   "metadata": {},
   "outputs": [
    {
     "data": {
      "text/html": [
       "<div>\n",
       "<style scoped>\n",
       "    .dataframe tbody tr th:only-of-type {\n",
       "        vertical-align: middle;\n",
       "    }\n",
       "\n",
       "    .dataframe tbody tr th {\n",
       "        vertical-align: top;\n",
       "    }\n",
       "\n",
       "    .dataframe thead th {\n",
       "        text-align: right;\n",
       "    }\n",
       "</style>\n",
       "<table border=\"1\" class=\"dataframe\">\n",
       "  <thead>\n",
       "    <tr style=\"text-align: right;\">\n",
       "      <th></th>\n",
       "      <th>instant</th>\n",
       "      <th>dteday</th>\n",
       "      <th>season</th>\n",
       "      <th>yr</th>\n",
       "      <th>mnth</th>\n",
       "      <th>holiday</th>\n",
       "      <th>weekday</th>\n",
       "      <th>workingday</th>\n",
       "      <th>weathersit</th>\n",
       "      <th>temp</th>\n",
       "      <th>atemp</th>\n",
       "      <th>hum</th>\n",
       "      <th>windspeed</th>\n",
       "      <th>casual</th>\n",
       "      <th>registered</th>\n",
       "      <th>cnt</th>\n",
       "      <th>days_old</th>\n",
       "    </tr>\n",
       "  </thead>\n",
       "  <tbody>\n",
       "    <tr>\n",
       "      <th>0</th>\n",
       "      <td>1</td>\n",
       "      <td>01-01-2018</td>\n",
       "      <td>1</td>\n",
       "      <td>0</td>\n",
       "      <td>1</td>\n",
       "      <td>0</td>\n",
       "      <td>6</td>\n",
       "      <td>0</td>\n",
       "      <td>2</td>\n",
       "      <td>14.110847</td>\n",
       "      <td>18.18125</td>\n",
       "      <td>80.5833</td>\n",
       "      <td>10.749882</td>\n",
       "      <td>331</td>\n",
       "      <td>654</td>\n",
       "      <td>985</td>\n",
       "      <td>0</td>\n",
       "    </tr>\n",
       "    <tr>\n",
       "      <th>1</th>\n",
       "      <td>2</td>\n",
       "      <td>02-01-2018</td>\n",
       "      <td>1</td>\n",
       "      <td>0</td>\n",
       "      <td>1</td>\n",
       "      <td>0</td>\n",
       "      <td>0</td>\n",
       "      <td>0</td>\n",
       "      <td>2</td>\n",
       "      <td>14.902598</td>\n",
       "      <td>17.68695</td>\n",
       "      <td>69.6087</td>\n",
       "      <td>16.652113</td>\n",
       "      <td>131</td>\n",
       "      <td>670</td>\n",
       "      <td>801</td>\n",
       "      <td>1</td>\n",
       "    </tr>\n",
       "    <tr>\n",
       "      <th>2</th>\n",
       "      <td>3</td>\n",
       "      <td>03-01-2018</td>\n",
       "      <td>1</td>\n",
       "      <td>0</td>\n",
       "      <td>1</td>\n",
       "      <td>0</td>\n",
       "      <td>1</td>\n",
       "      <td>1</td>\n",
       "      <td>1</td>\n",
       "      <td>8.050924</td>\n",
       "      <td>9.47025</td>\n",
       "      <td>43.7273</td>\n",
       "      <td>16.636703</td>\n",
       "      <td>120</td>\n",
       "      <td>1229</td>\n",
       "      <td>1349</td>\n",
       "      <td>2</td>\n",
       "    </tr>\n",
       "    <tr>\n",
       "      <th>3</th>\n",
       "      <td>4</td>\n",
       "      <td>04-01-2018</td>\n",
       "      <td>1</td>\n",
       "      <td>0</td>\n",
       "      <td>1</td>\n",
       "      <td>0</td>\n",
       "      <td>2</td>\n",
       "      <td>1</td>\n",
       "      <td>1</td>\n",
       "      <td>8.200000</td>\n",
       "      <td>10.60610</td>\n",
       "      <td>59.0435</td>\n",
       "      <td>10.739832</td>\n",
       "      <td>108</td>\n",
       "      <td>1454</td>\n",
       "      <td>1562</td>\n",
       "      <td>3</td>\n",
       "    </tr>\n",
       "    <tr>\n",
       "      <th>4</th>\n",
       "      <td>5</td>\n",
       "      <td>05-01-2018</td>\n",
       "      <td>1</td>\n",
       "      <td>0</td>\n",
       "      <td>1</td>\n",
       "      <td>0</td>\n",
       "      <td>3</td>\n",
       "      <td>1</td>\n",
       "      <td>1</td>\n",
       "      <td>9.305237</td>\n",
       "      <td>11.46350</td>\n",
       "      <td>43.6957</td>\n",
       "      <td>12.522300</td>\n",
       "      <td>82</td>\n",
       "      <td>1518</td>\n",
       "      <td>1600</td>\n",
       "      <td>4</td>\n",
       "    </tr>\n",
       "  </tbody>\n",
       "</table>\n",
       "</div>"
      ],
      "text/plain": [
       "   instant      dteday  season  yr  mnth  holiday  weekday  workingday  \\\n",
       "0        1  01-01-2018       1   0     1        0        6           0   \n",
       "1        2  02-01-2018       1   0     1        0        0           0   \n",
       "2        3  03-01-2018       1   0     1        0        1           1   \n",
       "3        4  04-01-2018       1   0     1        0        2           1   \n",
       "4        5  05-01-2018       1   0     1        0        3           1   \n",
       "\n",
       "   weathersit       temp     atemp      hum  windspeed  casual  registered  \\\n",
       "0           2  14.110847  18.18125  80.5833  10.749882     331         654   \n",
       "1           2  14.902598  17.68695  69.6087  16.652113     131         670   \n",
       "2           1   8.050924   9.47025  43.7273  16.636703     120        1229   \n",
       "3           1   8.200000  10.60610  59.0435  10.739832     108        1454   \n",
       "4           1   9.305237  11.46350  43.6957  12.522300      82        1518   \n",
       "\n",
       "    cnt  days_old  \n",
       "0   985         0  \n",
       "1   801         1  \n",
       "2  1349         2  \n",
       "3  1562         3  \n",
       "4  1600         4  "
      ]
     },
     "execution_count": 14,
     "metadata": {},
     "output_type": "execute_result"
    }
   ],
   "source": [
    "bikesharing.head()"
   ]
  },
  {
   "cell_type": "code",
   "execution_count": 15,
   "metadata": {},
   "outputs": [],
   "source": [
    "#dropping the instant column\n",
    "bikesharing.drop(['instant'], axis = 1, inplace = True)"
   ]
  },
  {
   "cell_type": "code",
   "execution_count": 16,
   "metadata": {},
   "outputs": [],
   "source": [
    "#dropping the dteday column\n",
    "bikesharing.drop(['dteday'], axis = 1, inplace = True)"
   ]
  },
  {
   "cell_type": "code",
   "execution_count": 17,
   "metadata": {},
   "outputs": [],
   "source": [
    "#dropping the casual and redistered columns\n",
    "bikesharing.drop(['casual'], axis = 1, inplace = True)\n",
    "bikesharing.drop(['registered'], axis = 1, inplace = True)"
   ]
  },
  {
   "cell_type": "code",
   "execution_count": 18,
   "metadata": {},
   "outputs": [
    {
     "data": {
      "text/html": [
       "<div>\n",
       "<style scoped>\n",
       "    .dataframe tbody tr th:only-of-type {\n",
       "        vertical-align: middle;\n",
       "    }\n",
       "\n",
       "    .dataframe tbody tr th {\n",
       "        vertical-align: top;\n",
       "    }\n",
       "\n",
       "    .dataframe thead th {\n",
       "        text-align: right;\n",
       "    }\n",
       "</style>\n",
       "<table border=\"1\" class=\"dataframe\">\n",
       "  <thead>\n",
       "    <tr style=\"text-align: right;\">\n",
       "      <th></th>\n",
       "      <th>season</th>\n",
       "      <th>yr</th>\n",
       "      <th>mnth</th>\n",
       "      <th>holiday</th>\n",
       "      <th>weekday</th>\n",
       "      <th>workingday</th>\n",
       "      <th>weathersit</th>\n",
       "      <th>temp</th>\n",
       "      <th>atemp</th>\n",
       "      <th>hum</th>\n",
       "      <th>windspeed</th>\n",
       "      <th>cnt</th>\n",
       "      <th>days_old</th>\n",
       "    </tr>\n",
       "  </thead>\n",
       "  <tbody>\n",
       "    <tr>\n",
       "      <th>0</th>\n",
       "      <td>1</td>\n",
       "      <td>0</td>\n",
       "      <td>1</td>\n",
       "      <td>0</td>\n",
       "      <td>6</td>\n",
       "      <td>0</td>\n",
       "      <td>2</td>\n",
       "      <td>14.110847</td>\n",
       "      <td>18.18125</td>\n",
       "      <td>80.5833</td>\n",
       "      <td>10.749882</td>\n",
       "      <td>985</td>\n",
       "      <td>0</td>\n",
       "    </tr>\n",
       "    <tr>\n",
       "      <th>1</th>\n",
       "      <td>1</td>\n",
       "      <td>0</td>\n",
       "      <td>1</td>\n",
       "      <td>0</td>\n",
       "      <td>0</td>\n",
       "      <td>0</td>\n",
       "      <td>2</td>\n",
       "      <td>14.902598</td>\n",
       "      <td>17.68695</td>\n",
       "      <td>69.6087</td>\n",
       "      <td>16.652113</td>\n",
       "      <td>801</td>\n",
       "      <td>1</td>\n",
       "    </tr>\n",
       "    <tr>\n",
       "      <th>2</th>\n",
       "      <td>1</td>\n",
       "      <td>0</td>\n",
       "      <td>1</td>\n",
       "      <td>0</td>\n",
       "      <td>1</td>\n",
       "      <td>1</td>\n",
       "      <td>1</td>\n",
       "      <td>8.050924</td>\n",
       "      <td>9.47025</td>\n",
       "      <td>43.7273</td>\n",
       "      <td>16.636703</td>\n",
       "      <td>1349</td>\n",
       "      <td>2</td>\n",
       "    </tr>\n",
       "    <tr>\n",
       "      <th>3</th>\n",
       "      <td>1</td>\n",
       "      <td>0</td>\n",
       "      <td>1</td>\n",
       "      <td>0</td>\n",
       "      <td>2</td>\n",
       "      <td>1</td>\n",
       "      <td>1</td>\n",
       "      <td>8.200000</td>\n",
       "      <td>10.60610</td>\n",
       "      <td>59.0435</td>\n",
       "      <td>10.739832</td>\n",
       "      <td>1562</td>\n",
       "      <td>3</td>\n",
       "    </tr>\n",
       "    <tr>\n",
       "      <th>4</th>\n",
       "      <td>1</td>\n",
       "      <td>0</td>\n",
       "      <td>1</td>\n",
       "      <td>0</td>\n",
       "      <td>3</td>\n",
       "      <td>1</td>\n",
       "      <td>1</td>\n",
       "      <td>9.305237</td>\n",
       "      <td>11.46350</td>\n",
       "      <td>43.6957</td>\n",
       "      <td>12.522300</td>\n",
       "      <td>1600</td>\n",
       "      <td>4</td>\n",
       "    </tr>\n",
       "  </tbody>\n",
       "</table>\n",
       "</div>"
      ],
      "text/plain": [
       "   season  yr  mnth  holiday  weekday  workingday  weathersit       temp  \\\n",
       "0       1   0     1        0        6           0           2  14.110847   \n",
       "1       1   0     1        0        0           0           2  14.902598   \n",
       "2       1   0     1        0        1           1           1   8.050924   \n",
       "3       1   0     1        0        2           1           1   8.200000   \n",
       "4       1   0     1        0        3           1           1   9.305237   \n",
       "\n",
       "      atemp      hum  windspeed   cnt  days_old  \n",
       "0  18.18125  80.5833  10.749882   985         0  \n",
       "1  17.68695  69.6087  16.652113   801         1  \n",
       "2   9.47025  43.7273  16.636703  1349         2  \n",
       "3  10.60610  59.0435  10.739832  1562         3  \n",
       "4  11.46350  43.6957  12.522300  1600         4  "
      ]
     },
     "execution_count": 18,
     "metadata": {},
     "output_type": "execute_result"
    }
   ],
   "source": [
    "#checking the dataframe after dropping\n",
    "bikesharing.head()"
   ]
  },
  {
   "cell_type": "code",
   "execution_count": 19,
   "metadata": {},
   "outputs": [
    {
     "name": "stdout",
     "output_type": "stream",
     "text": [
      "<class 'pandas.core.frame.DataFrame'>\n",
      "Int64Index: 730 entries, 0 to 729\n",
      "Data columns (total 13 columns):\n",
      " #   Column      Non-Null Count  Dtype  \n",
      "---  ------      --------------  -----  \n",
      " 0   season      730 non-null    int64  \n",
      " 1   yr          730 non-null    int64  \n",
      " 2   mnth        730 non-null    int64  \n",
      " 3   holiday     730 non-null    int64  \n",
      " 4   weekday     730 non-null    int64  \n",
      " 5   workingday  730 non-null    int64  \n",
      " 6   weathersit  730 non-null    int64  \n",
      " 7   temp        730 non-null    float64\n",
      " 8   atemp       730 non-null    float64\n",
      " 9   hum         730 non-null    float64\n",
      " 10  windspeed   730 non-null    float64\n",
      " 11  cnt         730 non-null    int64  \n",
      " 12  days_old    730 non-null    int64  \n",
      "dtypes: float64(4), int64(9)\n",
      "memory usage: 79.8 KB\n"
     ]
    }
   ],
   "source": [
    "bikesharing.info()"
   ]
  },
  {
   "cell_type": "code",
   "execution_count": 20,
   "metadata": {},
   "outputs": [
    {
     "data": {
      "text/plain": [
       "3    188\n",
       "2    184\n",
       "1    180\n",
       "4    178\n",
       "Name: season, dtype: int64"
      ]
     },
     "execution_count": 20,
     "metadata": {},
     "output_type": "execute_result"
    }
   ],
   "source": [
    "bikesharing.season.value_counts()"
   ]
  },
  {
   "cell_type": "code",
   "execution_count": 21,
   "metadata": {},
   "outputs": [
    {
     "data": {
      "text/plain": [
       "1    463\n",
       "2    246\n",
       "3     21\n",
       "Name: weathersit, dtype: int64"
      ]
     },
     "execution_count": 21,
     "metadata": {},
     "output_type": "execute_result"
    }
   ],
   "source": [
    "bikesharing.weathersit.value_counts()"
   ]
  },
  {
   "cell_type": "code",
   "execution_count": 22,
   "metadata": {},
   "outputs": [
    {
     "data": {
      "text/plain": [
       "12    62\n",
       "10    62\n",
       "8     62\n",
       "7     62\n",
       "5     62\n",
       "3     62\n",
       "1     62\n",
       "11    60\n",
       "9     60\n",
       "6     60\n",
       "4     60\n",
       "2     56\n",
       "Name: mnth, dtype: int64"
      ]
     },
     "execution_count": 22,
     "metadata": {},
     "output_type": "execute_result"
    }
   ],
   "source": [
    "bikesharing.mnth.value_counts()"
   ]
  },
  {
   "cell_type": "code",
   "execution_count": 23,
   "metadata": {},
   "outputs": [
    {
     "data": {
      "text/plain": [
       "6    105\n",
       "1    105\n",
       "0    105\n",
       "5    104\n",
       "4    104\n",
       "2    104\n",
       "3    103\n",
       "Name: weekday, dtype: int64"
      ]
     },
     "execution_count": 23,
     "metadata": {},
     "output_type": "execute_result"
    }
   ],
   "source": [
    "bikesharing.weekday.value_counts()"
   ]
  },
  {
   "cell_type": "markdown",
   "metadata": {},
   "source": [
    "Analysis -\n",
    "- We can see that in the dataset there are some columns(season, weathersit, mnth, weekday) which are integers although they should be non-numerical categories."
   ]
  },
  {
   "cell_type": "markdown",
   "metadata": {},
   "source": [
    "#### Handling Outliers"
   ]
  },
  {
   "cell_type": "code",
   "execution_count": 24,
   "metadata": {},
   "outputs": [
    {
     "data": {
      "text/plain": [
       "Index(['season', 'yr', 'mnth', 'holiday', 'weekday', 'workingday',\n",
       "       'weathersit', 'temp', 'atemp', 'hum', 'windspeed', 'cnt', 'days_old'],\n",
       "      dtype='object')"
      ]
     },
     "execution_count": 24,
     "metadata": {},
     "output_type": "execute_result"
    }
   ],
   "source": [
    "bikesharing.columns"
   ]
  },
  {
   "cell_type": "code",
   "execution_count": 25,
   "metadata": {},
   "outputs": [
    {
     "data": {
      "text/plain": [
       "season          4\n",
       "yr              2\n",
       "mnth           12\n",
       "holiday         2\n",
       "weekday         7\n",
       "workingday      2\n",
       "weathersit      3\n",
       "temp          498\n",
       "atemp         689\n",
       "hum           594\n",
       "windspeed     649\n",
       "cnt           695\n",
       "days_old      730\n",
       "dtype: int64"
      ]
     },
     "execution_count": 25,
     "metadata": {},
     "output_type": "execute_result"
    }
   ],
   "source": [
    "#printing the no. of unique values in each column\n",
    "bikesharing.nunique()"
   ]
  },
  {
   "cell_type": "code",
   "execution_count": 26,
   "metadata": {},
   "outputs": [
    {
     "data": {
      "text/plain": [
       "<matplotlib.axes._subplots.AxesSubplot at 0x215955b6248>"
      ]
     },
     "execution_count": 26,
     "metadata": {},
     "output_type": "execute_result"
    },
    {
     "data": {
      "image/png": "[encoded data removed]",
      "text/plain": [
       "<Figure size 720x360 with 1 Axes>"
      ]
     },
     "metadata": {
      "needs_background": "light"
     },
     "output_type": "display_data"
    }
   ],
   "source": [
    "#creating a box plot fot variables with continuous values\n",
    "#variable - temp\n",
    "plt.figure(figsize = (10,5))\n",
    "sns.boxplot(y = bikesharing['temp'], data = bikesharing)"
   ]
  },
  {
   "cell_type": "code",
   "execution_count": 27,
   "metadata": {},
   "outputs": [
    {
     "data": {
      "text/plain": [
       "<matplotlib.axes._subplots.AxesSubplot at 0x215955bccc8>"
      ]
     },
     "execution_count": 27,
     "metadata": {},
     "output_type": "execute_result"
    },
    {
     "data": {
      "image/png": "[encoded data removed]",
      "text/plain": [
       "<Figure size 720x360 with 1 Axes>"
      ]
     },
     "metadata": {
      "needs_background": "light"
     },
     "output_type": "display_data"
    }
   ],
   "source": [
    "#creating a box plot fot variables with continuous values\n",
    "#variable - atemp\n",
    "plt.figure(figsize = (10,5))\n",
    "sns.boxplot(y = bikesharing['atemp'], data = bikesharing)"
   ]
  },
  {
   "cell_type": "code",
   "execution_count": 28,
   "metadata": {},
   "outputs": [
    {
     "data": {
      "text/plain": [
       "<matplotlib.axes._subplots.AxesSubplot at 0x21595d12c08>"
      ]
     },
     "execution_count": 28,
     "metadata": {},
     "output_type": "execute_result"
    },
    {
     "data": {
      "image/png": "[encoded data removed]",
      "text/plain": [
       "<Figure size 720x360 with 1 Axes>"
      ]
     },
     "metadata": {
      "needs_background": "light"
     },
     "output_type": "display_data"
    }
   ],
   "source": [
    "#creating a box plot fot variables with continuous values\n",
    "#variable - hum\n",
    "plt.figure(figsize = (10,5))\n",
    "sns.boxplot(y = bikesharing['hum'], data = bikesharing)"
   ]
  },
  {
   "cell_type": "code",
   "execution_count": 29,
   "metadata": {},
   "outputs": [
    {
     "data": {
      "text/plain": [
       "<matplotlib.axes._subplots.AxesSubplot at 0x21595d9cd88>"
      ]
     },
     "execution_count": 29,
     "metadata": {},
     "output_type": "execute_result"
    },
    {
     "data": {
      "image/png": "[encoded data removed]",
      "text/plain": [
       "<Figure size 720x360 with 1 Axes>"
      ]
     },
     "metadata": {
      "needs_background": "light"
     },
     "output_type": "display_data"
    }
   ],
   "source": [
    "#creating a box plot fot variables with continuous values\n",
    "#variable - windspeed\n",
    "plt.figure(figsize = (10,5))\n",
    "sns.boxplot(y = bikesharing['windspeed'], data = bikesharing)"
   ]
  },
  {
   "cell_type": "markdown",
   "metadata": {},
   "source": [
    "#### Converting the columns into categorical variables"
   ]
  },
  {
   "cell_type": "code",
   "execution_count": 30,
   "metadata": {},
   "outputs": [],
   "source": [
    "#converting season, weathersit, mnth, weekday to categorical variables\n",
    "\n",
    "#variable - season\n",
    "bikesharing.season.replace({1:'Spring', 2:'Summer', 3:'Fall', 4:'Winter'}, inplace = True)\n",
    "#variable - weathersit\n",
    "bikesharing.weathersit.replace({1:'Clear_FewClouds', 2:'Mist_Cloudy', 3:'LightRain_LightSnow_Thunderstorm', 4:'HeavyRain_IcePallets_Thunderstorm_Mist'}, inplace = True)\n",
    "#variable - mnth\n",
    "bikesharing.mnth.replace({1:'Jan', 2:'Feb', 3:'Mar', 4:'Apr', 5:'May', 6:'Jun', 7:'Jul', 8:'Aug', 9:'Sept', 10:'Oct', 11:'Nov', 12:'Dec'}, inplace = True)\n",
    "#variable - weekday\n",
    "bikesharing.weekday.replace({0:'Sun', 1:'Mon', 2:'Tues', 3:'Wed', 4:'Thur', 5:'Fri', 6:'Sat'}, inplace = True)"
   ]
  },
  {
   "cell_type": "code",
   "execution_count": 31,
   "metadata": {},
   "outputs": [
    {
     "data": {
      "text/html": [
       "<div>\n",
       "<style scoped>\n",
       "    .dataframe tbody tr th:only-of-type {\n",
       "        vertical-align: middle;\n",
       "    }\n",
       "\n",
       "    .dataframe tbody tr th {\n",
       "        vertical-align: top;\n",
       "    }\n",
       "\n",
       "    .dataframe thead th {\n",
       "        text-align: right;\n",
       "    }\n",
       "</style>\n",
       "<table border=\"1\" class=\"dataframe\">\n",
       "  <thead>\n",
       "    <tr style=\"text-align: right;\">\n",
       "      <th></th>\n",
       "      <th>season</th>\n",
       "      <th>yr</th>\n",
       "      <th>mnth</th>\n",
       "      <th>holiday</th>\n",
       "      <th>weekday</th>\n",
       "      <th>workingday</th>\n",
       "      <th>weathersit</th>\n",
       "      <th>temp</th>\n",
       "      <th>atemp</th>\n",
       "      <th>hum</th>\n",
       "      <th>windspeed</th>\n",
       "      <th>cnt</th>\n",
       "      <th>days_old</th>\n",
       "    </tr>\n",
       "  </thead>\n",
       "  <tbody>\n",
       "    <tr>\n",
       "      <th>0</th>\n",
       "      <td>Spring</td>\n",
       "      <td>0</td>\n",
       "      <td>Jan</td>\n",
       "      <td>0</td>\n",
       "      <td>Sat</td>\n",
       "      <td>0</td>\n",
       "      <td>Mist_Cloudy</td>\n",
       "      <td>14.110847</td>\n",
       "      <td>18.18125</td>\n",
       "      <td>80.5833</td>\n",
       "      <td>10.749882</td>\n",
       "      <td>985</td>\n",
       "      <td>0</td>\n",
       "    </tr>\n",
       "    <tr>\n",
       "      <th>1</th>\n",
       "      <td>Spring</td>\n",
       "      <td>0</td>\n",
       "      <td>Jan</td>\n",
       "      <td>0</td>\n",
       "      <td>Sun</td>\n",
       "      <td>0</td>\n",
       "      <td>Mist_Cloudy</td>\n",
       "      <td>14.902598</td>\n",
       "      <td>17.68695</td>\n",
       "      <td>69.6087</td>\n",
       "      <td>16.652113</td>\n",
       "      <td>801</td>\n",
       "      <td>1</td>\n",
       "    </tr>\n",
       "    <tr>\n",
       "      <th>2</th>\n",
       "      <td>Spring</td>\n",
       "      <td>0</td>\n",
       "      <td>Jan</td>\n",
       "      <td>0</td>\n",
       "      <td>Mon</td>\n",
       "      <td>1</td>\n",
       "      <td>Clear_FewClouds</td>\n",
       "      <td>8.050924</td>\n",
       "      <td>9.47025</td>\n",
       "      <td>43.7273</td>\n",
       "      <td>16.636703</td>\n",
       "      <td>1349</td>\n",
       "      <td>2</td>\n",
       "    </tr>\n",
       "    <tr>\n",
       "      <th>3</th>\n",
       "      <td>Spring</td>\n",
       "      <td>0</td>\n",
       "      <td>Jan</td>\n",
       "      <td>0</td>\n",
       "      <td>Tues</td>\n",
       "      <td>1</td>\n",
       "      <td>Clear_FewClouds</td>\n",
       "      <td>8.200000</td>\n",
       "      <td>10.60610</td>\n",
       "      <td>59.0435</td>\n",
       "      <td>10.739832</td>\n",
       "      <td>1562</td>\n",
       "      <td>3</td>\n",
       "    </tr>\n",
       "    <tr>\n",
       "      <th>4</th>\n",
       "      <td>Spring</td>\n",
       "      <td>0</td>\n",
       "      <td>Jan</td>\n",
       "      <td>0</td>\n",
       "      <td>Wed</td>\n",
       "      <td>1</td>\n",
       "      <td>Clear_FewClouds</td>\n",
       "      <td>9.305237</td>\n",
       "      <td>11.46350</td>\n",
       "      <td>43.6957</td>\n",
       "      <td>12.522300</td>\n",
       "      <td>1600</td>\n",
       "      <td>4</td>\n",
       "    </tr>\n",
       "  </tbody>\n",
       "</table>\n",
       "</div>"
      ],
      "text/plain": [
       "   season  yr mnth  holiday weekday  workingday       weathersit       temp  \\\n",
       "0  Spring   0  Jan        0     Sat           0      Mist_Cloudy  14.110847   \n",
       "1  Spring   0  Jan        0     Sun           0      Mist_Cloudy  14.902598   \n",
       "2  Spring   0  Jan        0     Mon           1  Clear_FewClouds   8.050924   \n",
       "3  Spring   0  Jan        0    Tues           1  Clear_FewClouds   8.200000   \n",
       "4  Spring   0  Jan        0     Wed           1  Clear_FewClouds   9.305237   \n",
       "\n",
       "      atemp      hum  windspeed   cnt  days_old  \n",
       "0  18.18125  80.5833  10.749882   985         0  \n",
       "1  17.68695  69.6087  16.652113   801         1  \n",
       "2   9.47025  43.7273  16.636703  1349         2  \n",
       "3  10.60610  59.0435  10.739832  1562         3  \n",
       "4  11.46350  43.6957  12.522300  1600         4  "
      ]
     },
     "execution_count": 31,
     "metadata": {},
     "output_type": "execute_result"
    }
   ],
   "source": [
    "bikesharing.head()"
   ]
  },
  {
   "cell_type": "markdown",
   "metadata": {},
   "source": [
    "## 4. Exploratory Data Analysis "
   ]
  },
  {
   "cell_type": "markdown",
   "metadata": {},
   "source": [
    "#### Checking for linear relationships"
   ]
  },
  {
   "cell_type": "code",
   "execution_count": 32,
   "metadata": {},
   "outputs": [
    {
     "data": {
      "text/plain": [
       "<Figure size 1440x2160 with 0 Axes>"
      ]
     },
     "metadata": {},
     "output_type": "display_data"
    },
    {
     "data": {
      "image/png": "[encoded data removed]",
      "text/plain": [
       "<Figure size 900x900 with 30 Axes>"
      ]
     },
     "metadata": {
      "needs_background": "light"
     },
     "output_type": "display_data"
    }
   ],
   "source": [
    "#pairplots for the numerical variables\n",
    "plt.figure(figsize = (20,30))\n",
    "sns.pairplot(data = bikesharing, vars = ['temp', 'atemp', 'hum', 'windspeed', 'cnt'])\n",
    "plt.show()"
   ]
  },
  {
   "cell_type": "markdown",
   "metadata": {},
   "source": [
    "Analysis -\n",
    "- Looking at the graphs, we can see that the target variable 'cnt' has highest correlation with temp and atemp.\n",
    "- Also, it can be seen that there is high correlation between temp and atemp."
   ]
  },
  {
   "cell_type": "code",
   "execution_count": 33,
   "metadata": {
    "scrolled": true
   },
   "outputs": [
    {
     "data": {
      "image/png": "[encoded data removed]",
      "text/plain": [
       "<Figure size 720x432 with 2 Axes>"
      ]
     },
     "metadata": {
      "needs_background": "light"
     },
     "output_type": "display_data"
    }
   ],
   "source": [
    "#checking the correlation among the numerical variables\n",
    "plt.figure(figsize = (10,6))\n",
    "sns.heatmap(bikesharing[['temp', 'atemp', 'hum', 'windspeed', 'cnt']].corr(), annot = True)\n",
    "plt.show()"
   ]
  },
  {
   "cell_type": "markdown",
   "metadata": {},
   "source": [
    "Analysis -\n",
    "- From the above heatmap, we can see that the correlation between temp and atemp is 0.99 which implies they are highly correlated.\n",
    "- Since, they are highly correlated, we can drop atemp."
   ]
  },
  {
   "cell_type": "markdown",
   "metadata": {},
   "source": [
    "#### Correlation among all variables of dataset"
   ]
  },
  {
   "cell_type": "code",
   "execution_count": 34,
   "metadata": {},
   "outputs": [
    {
     "data": {
      "image/png": "[encoded data removed]",
      "text/plain": [
       "<Figure size 1440x1080 with 2 Axes>"
      ]
     },
     "metadata": {
      "needs_background": "light"
     },
     "output_type": "display_data"
    }
   ],
   "source": [
    "#heathmap for the correlation among all variables\n",
    "plt.figure(figsize = (20,15))\n",
    "sns.heatmap(bikesharing.corr(), annot = True)\n",
    "plt.show()"
   ]
  },
  {
   "cell_type": "markdown",
   "metadata": {},
   "source": [
    "Analysis -\n",
    "- From the above heatmap, we can see that there is a good correlation with temp, atemp and days_old."
   ]
  },
  {
   "cell_type": "markdown",
   "metadata": {},
   "source": [
    "#### Visualizing categorical variables with target variables"
   ]
  },
  {
   "cell_type": "code",
   "execution_count": 35,
   "metadata": {},
   "outputs": [
    {
     "data": {
      "image/png": "[encoded data removed]",
      "text/plain": [
       "<Figure size 2160x1440 with 6 Axes>"
      ]
     },
     "metadata": {
      "needs_background": "light"
     },
     "output_type": "display_data"
    }
   ],
   "source": [
    "#making boxplots for the categorical variables\n",
    "plt.figure(figsize=(30,20))\n",
    "\n",
    "plt.subplot(2,3,1)\n",
    "sns.boxplot(x='season', y='cnt', data = bikesharing)\n",
    "\n",
    "plt.subplot(2,3,2)\n",
    "sns.boxplot(x='mnth', y='cnt', data = bikesharing)\n",
    "\n",
    "plt.subplot(2,3,3)\n",
    "sns.boxplot(x='weathersit', y='cnt', data = bikesharing)\n",
    "\n",
    "plt.subplot(2,3,4)\n",
    "sns.boxplot(x='weekday', y='cnt', data = bikesharing)\n",
    "\n",
    "plt.subplot(2,3,5)\n",
    "sns.boxplot(x='holiday', y='cnt', data = bikesharing)\n",
    "\n",
    "plt.subplot(2,3,6)\n",
    "sns.boxplot(x='workingday', y='cnt', data = bikesharing)\n",
    "\n",
    "plt.show()"
   ]
  },
  {
   "cell_type": "markdown",
   "metadata": {},
   "source": [
    "Analysis - \n",
    "- From the first plot for variable 'season', we can see that the maximum bookings of around 5000 are in the 'Fall' season.\n",
    "- From the second plot for variable 'mnth', we can see that the demand is increasing continuously till June and after September the demand is decreasing. The maximum demand is in the month of September.\n",
    "- From the third plot for variable 'weathersit', we can see that maximum booking happened in the 'Clear, Few clouds, Partly cloudy, Partly cloudy' weather.\n",
    "- From the fifth plot for variable 'holiday', we can see that when there is a holiday, the demand has decreased.\n",
    "- From the fourth and sixth plot, there are no significant insights that we can make."
   ]
  },
  {
   "cell_type": "markdown",
   "metadata": {},
   "source": [
    "#### Visualizing numerical variables with target variables"
   ]
  },
  {
   "cell_type": "code",
   "execution_count": 36,
   "metadata": {},
   "outputs": [
    {
     "data": {
      "image/png": "[encoded data removed]",
      "text/plain": [
       "<Figure size 360x360 with 1 Axes>"
      ]
     },
     "metadata": {
      "needs_background": "light"
     },
     "output_type": "display_data"
    }
   ],
   "source": [
    "#variable - temp\n",
    "plt.figure(figsize=(5,5))\n",
    "plt.title('cnt vs temp')\n",
    "sns.regplot(data=bikesharing, y='cnt', x='temp')\n",
    "plt.xlabel('Temperature')\n",
    "plt.show()"
   ]
  },
  {
   "cell_type": "markdown",
   "metadata": {},
   "source": [
    "Analysis - \n",
    "- Demand is positively correlated to the variable temp.\n",
    "- Also, we can see that there is a linear relationship between cnt and temp."
   ]
  },
  {
   "cell_type": "code",
   "execution_count": 37,
   "metadata": {},
   "outputs": [
    {
     "data": {
      "image/png": "[encoded data removed]",
      "text/plain": [
       "<Figure size 360x360 with 1 Axes>"
      ]
     },
     "metadata": {
      "needs_background": "light"
     },
     "output_type": "display_data"
    }
   ],
   "source": [
    "#variable - hum\n",
    "plt.figure(figsize=(5,5))\n",
    "plt.title('cnt vs hum')\n",
    "sns.regplot(data=bikesharing, y='cnt', x='hum')\n",
    "plt.xlabel('Humidity')\n",
    "plt.show()"
   ]
  },
  {
   "cell_type": "markdown",
   "metadata": {},
   "source": [
    "Analysis - \n",
    "- Here, the values are more scattered.\n",
    "- Also, we can see cnt is decreasing with increase in humidity."
   ]
  },
  {
   "cell_type": "code",
   "execution_count": 38,
   "metadata": {},
   "outputs": [
    {
     "data": {
      "image/png": "[encoded data removed]",
      "text/plain": [
       "<Figure size 360x360 with 1 Axes>"
      ]
     },
     "metadata": {
      "needs_background": "light"
     },
     "output_type": "display_data"
    }
   ],
   "source": [
    "#variable - hum\n",
    "plt.figure(figsize=(5,5))\n",
    "plt.title('cnt vs windspeed')\n",
    "sns.regplot(data=bikesharing, y='cnt', x='windspeed')\n",
    "plt.xlabel('Windspeed')\n",
    "plt.show()"
   ]
  },
  {
   "cell_type": "markdown",
   "metadata": {},
   "source": [
    "Analysis - \n",
    "- Here, the values are more scattered.\n",
    "- Also, we can see cnt is decreasing with increase in windspeed."
   ]
  },
  {
   "cell_type": "markdown",
   "metadata": {},
   "source": [
    "## 5. Data Preparation "
   ]
  },
  {
   "cell_type": "markdown",
   "metadata": {},
   "source": [
    "#### Creating dummy variables for categorical variables"
   ]
  },
  {
   "cell_type": "code",
   "execution_count": 39,
   "metadata": {},
   "outputs": [],
   "source": [
    "bikesharing = pd.get_dummies(data=bikesharing,columns=['season','mnth','weekday'],drop_first = True)\n",
    "bikesharing = pd.get_dummies(data=bikesharing,columns=['weathersit'], drop_first = True)"
   ]
  },
  {
   "cell_type": "code",
   "execution_count": 40,
   "metadata": {},
   "outputs": [
    {
     "data": {
      "text/plain": [
       "Index(['yr', 'holiday', 'workingday', 'temp', 'atemp', 'hum', 'windspeed',\n",
       "       'cnt', 'days_old', 'season_Spring', 'season_Summer', 'season_Winter',\n",
       "       'mnth_Aug', 'mnth_Dec', 'mnth_Feb', 'mnth_Jan', 'mnth_Jul', 'mnth_Jun',\n",
       "       'mnth_Mar', 'mnth_May', 'mnth_Nov', 'mnth_Oct', 'mnth_Sept',\n",
       "       'weekday_Mon', 'weekday_Sat', 'weekday_Sun', 'weekday_Thur',\n",
       "       'weekday_Tues', 'weekday_Wed',\n",
       "       'weathersit_LightRain_LightSnow_Thunderstorm',\n",
       "       'weathersit_Mist_Cloudy'],\n",
       "      dtype='object')"
      ]
     },
     "execution_count": 40,
     "metadata": {},
     "output_type": "execute_result"
    }
   ],
   "source": [
    "#columns after creating dummies\n",
    "bikesharing.columns"
   ]
  },
  {
   "cell_type": "code",
   "execution_count": 41,
   "metadata": {},
   "outputs": [
    {
     "data": {
      "text/html": [
       "<div>\n",
       "<style scoped>\n",
       "    .dataframe tbody tr th:only-of-type {\n",
       "        vertical-align: middle;\n",
       "    }\n",
       "\n",
       "    .dataframe tbody tr th {\n",
       "        vertical-align: top;\n",
       "    }\n",
       "\n",
       "    .dataframe thead th {\n",
       "        text-align: right;\n",
       "    }\n",
       "</style>\n",
       "<table border=\"1\" class=\"dataframe\">\n",
       "  <thead>\n",
       "    <tr style=\"text-align: right;\">\n",
       "      <th></th>\n",
       "      <th>yr</th>\n",
       "      <th>holiday</th>\n",
       "      <th>workingday</th>\n",
       "      <th>temp</th>\n",
       "      <th>atemp</th>\n",
       "      <th>hum</th>\n",
       "      <th>windspeed</th>\n",
       "      <th>cnt</th>\n",
       "      <th>days_old</th>\n",
       "      <th>season_Spring</th>\n",
       "      <th>...</th>\n",
       "      <th>mnth_Oct</th>\n",
       "      <th>mnth_Sept</th>\n",
       "      <th>weekday_Mon</th>\n",
       "      <th>weekday_Sat</th>\n",
       "      <th>weekday_Sun</th>\n",
       "      <th>weekday_Thur</th>\n",
       "      <th>weekday_Tues</th>\n",
       "      <th>weekday_Wed</th>\n",
       "      <th>weathersit_LightRain_LightSnow_Thunderstorm</th>\n",
       "      <th>weathersit_Mist_Cloudy</th>\n",
       "    </tr>\n",
       "  </thead>\n",
       "  <tbody>\n",
       "    <tr>\n",
       "      <th>0</th>\n",
       "      <td>0</td>\n",
       "      <td>0</td>\n",
       "      <td>0</td>\n",
       "      <td>14.110847</td>\n",
       "      <td>18.18125</td>\n",
       "      <td>80.5833</td>\n",
       "      <td>10.749882</td>\n",
       "      <td>985</td>\n",
       "      <td>0</td>\n",
       "      <td>1</td>\n",
       "      <td>...</td>\n",
       "      <td>0</td>\n",
       "      <td>0</td>\n",
       "      <td>0</td>\n",
       "      <td>1</td>\n",
       "      <td>0</td>\n",
       "      <td>0</td>\n",
       "      <td>0</td>\n",
       "      <td>0</td>\n",
       "      <td>0</td>\n",
       "      <td>1</td>\n",
       "    </tr>\n",
       "    <tr>\n",
       "      <th>1</th>\n",
       "      <td>0</td>\n",
       "      <td>0</td>\n",
       "      <td>0</td>\n",
       "      <td>14.902598</td>\n",
       "      <td>17.68695</td>\n",
       "      <td>69.6087</td>\n",
       "      <td>16.652113</td>\n",
       "      <td>801</td>\n",
       "      <td>1</td>\n",
       "      <td>1</td>\n",
       "      <td>...</td>\n",
       "      <td>0</td>\n",
       "      <td>0</td>\n",
       "      <td>0</td>\n",
       "      <td>0</td>\n",
       "      <td>1</td>\n",
       "      <td>0</td>\n",
       "      <td>0</td>\n",
       "      <td>0</td>\n",
       "      <td>0</td>\n",
       "      <td>1</td>\n",
       "    </tr>\n",
       "    <tr>\n",
       "      <th>2</th>\n",
       "      <td>0</td>\n",
       "      <td>0</td>\n",
       "      <td>1</td>\n",
       "      <td>8.050924</td>\n",
       "      <td>9.47025</td>\n",
       "      <td>43.7273</td>\n",
       "      <td>16.636703</td>\n",
       "      <td>1349</td>\n",
       "      <td>2</td>\n",
       "      <td>1</td>\n",
       "      <td>...</td>\n",
       "      <td>0</td>\n",
       "      <td>0</td>\n",
       "      <td>1</td>\n",
       "      <td>0</td>\n",
       "      <td>0</td>\n",
       "      <td>0</td>\n",
       "      <td>0</td>\n",
       "      <td>0</td>\n",
       "      <td>0</td>\n",
       "      <td>0</td>\n",
       "    </tr>\n",
       "    <tr>\n",
       "      <th>3</th>\n",
       "      <td>0</td>\n",
       "      <td>0</td>\n",
       "      <td>1</td>\n",
       "      <td>8.200000</td>\n",
       "      <td>10.60610</td>\n",
       "      <td>59.0435</td>\n",
       "      <td>10.739832</td>\n",
       "      <td>1562</td>\n",
       "      <td>3</td>\n",
       "      <td>1</td>\n",
       "      <td>...</td>\n",
       "      <td>0</td>\n",
       "      <td>0</td>\n",
       "      <td>0</td>\n",
       "      <td>0</td>\n",
       "      <td>0</td>\n",
       "      <td>0</td>\n",
       "      <td>1</td>\n",
       "      <td>0</td>\n",
       "      <td>0</td>\n",
       "      <td>0</td>\n",
       "    </tr>\n",
       "    <tr>\n",
       "      <th>4</th>\n",
       "      <td>0</td>\n",
       "      <td>0</td>\n",
       "      <td>1</td>\n",
       "      <td>9.305237</td>\n",
       "      <td>11.46350</td>\n",
       "      <td>43.6957</td>\n",
       "      <td>12.522300</td>\n",
       "      <td>1600</td>\n",
       "      <td>4</td>\n",
       "      <td>1</td>\n",
       "      <td>...</td>\n",
       "      <td>0</td>\n",
       "      <td>0</td>\n",
       "      <td>0</td>\n",
       "      <td>0</td>\n",
       "      <td>0</td>\n",
       "      <td>0</td>\n",
       "      <td>0</td>\n",
       "      <td>1</td>\n",
       "      <td>0</td>\n",
       "      <td>0</td>\n",
       "    </tr>\n",
       "  </tbody>\n",
       "</table>\n",
       "<p>5 rows × 31 columns</p>\n",
       "</div>"
      ],
      "text/plain": [
       "   yr  holiday  workingday       temp     atemp      hum  windspeed   cnt  \\\n",
       "0   0        0           0  14.110847  18.18125  80.5833  10.749882   985   \n",
       "1   0        0           0  14.902598  17.68695  69.6087  16.652113   801   \n",
       "2   0        0           1   8.050924   9.47025  43.7273  16.636703  1349   \n",
       "3   0        0           1   8.200000  10.60610  59.0435  10.739832  1562   \n",
       "4   0        0           1   9.305237  11.46350  43.6957  12.522300  1600   \n",
       "\n",
       "   days_old  season_Spring  ...  mnth_Oct  mnth_Sept  weekday_Mon  \\\n",
       "0         0              1  ...         0          0            0   \n",
       "1         1              1  ...         0          0            0   \n",
       "2         2              1  ...         0          0            1   \n",
       "3         3              1  ...         0          0            0   \n",
       "4         4              1  ...         0          0            0   \n",
       "\n",
       "   weekday_Sat  weekday_Sun  weekday_Thur  weekday_Tues  weekday_Wed  \\\n",
       "0            1            0             0             0            0   \n",
       "1            0            1             0             0            0   \n",
       "2            0            0             0             0            0   \n",
       "3            0            0             0             1            0   \n",
       "4            0            0             0             0            1   \n",
       "\n",
       "   weathersit_LightRain_LightSnow_Thunderstorm  weathersit_Mist_Cloudy  \n",
       "0                                            0                       1  \n",
       "1                                            0                       1  \n",
       "2                                            0                       0  \n",
       "3                                            0                       0  \n",
       "4                                            0                       0  \n",
       "\n",
       "[5 rows x 31 columns]"
      ]
     },
     "execution_count": 41,
     "metadata": {},
     "output_type": "execute_result"
    }
   ],
   "source": [
    "bikesharing.head()"
   ]
  },
  {
   "cell_type": "markdown",
   "metadata": {},
   "source": [
    "## 5. Data Splitting and Feature Selection"
   ]
  },
  {
   "cell_type": "markdown",
   "metadata": {},
   "source": [
    "#### Splitting the dataset into training and test data"
   ]
  },
  {
   "cell_type": "code",
   "execution_count": 42,
   "metadata": {},
   "outputs": [
    {
     "data": {
      "text/plain": [
       "(730, 31)"
      ]
     },
     "execution_count": 42,
     "metadata": {},
     "output_type": "execute_result"
    }
   ],
   "source": [
    "#shape before the split\n",
    "bikesharing.shape"
   ]
  },
  {
   "cell_type": "code",
   "execution_count": 43,
   "metadata": {},
   "outputs": [],
   "source": [
    "#y will be the target variable \n",
    "y = bikesharing['cnt']\n",
    "#X will have the independent variables\n",
    "X = bikesharing.drop(['cnt'], axis = 1)"
   ]
  },
  {
   "cell_type": "code",
   "execution_count": 44,
   "metadata": {},
   "outputs": [
    {
     "data": {
      "text/html": [
       "<div>\n",
       "<style scoped>\n",
       "    .dataframe tbody tr th:only-of-type {\n",
       "        vertical-align: middle;\n",
       "    }\n",
       "\n",
       "    .dataframe tbody tr th {\n",
       "        vertical-align: top;\n",
       "    }\n",
       "\n",
       "    .dataframe thead th {\n",
       "        text-align: right;\n",
       "    }\n",
       "</style>\n",
       "<table border=\"1\" class=\"dataframe\">\n",
       "  <thead>\n",
       "    <tr style=\"text-align: right;\">\n",
       "      <th></th>\n",
       "      <th>yr</th>\n",
       "      <th>holiday</th>\n",
       "      <th>workingday</th>\n",
       "      <th>temp</th>\n",
       "      <th>atemp</th>\n",
       "      <th>hum</th>\n",
       "      <th>windspeed</th>\n",
       "      <th>days_old</th>\n",
       "      <th>season_Spring</th>\n",
       "      <th>season_Summer</th>\n",
       "      <th>...</th>\n",
       "      <th>mnth_Oct</th>\n",
       "      <th>mnth_Sept</th>\n",
       "      <th>weekday_Mon</th>\n",
       "      <th>weekday_Sat</th>\n",
       "      <th>weekday_Sun</th>\n",
       "      <th>weekday_Thur</th>\n",
       "      <th>weekday_Tues</th>\n",
       "      <th>weekday_Wed</th>\n",
       "      <th>weathersit_LightRain_LightSnow_Thunderstorm</th>\n",
       "      <th>weathersit_Mist_Cloudy</th>\n",
       "    </tr>\n",
       "  </thead>\n",
       "  <tbody>\n",
       "    <tr>\n",
       "      <th>0</th>\n",
       "      <td>0</td>\n",
       "      <td>0</td>\n",
       "      <td>0</td>\n",
       "      <td>14.110847</td>\n",
       "      <td>18.18125</td>\n",
       "      <td>80.5833</td>\n",
       "      <td>10.749882</td>\n",
       "      <td>0</td>\n",
       "      <td>1</td>\n",
       "      <td>0</td>\n",
       "      <td>...</td>\n",
       "      <td>0</td>\n",
       "      <td>0</td>\n",
       "      <td>0</td>\n",
       "      <td>1</td>\n",
       "      <td>0</td>\n",
       "      <td>0</td>\n",
       "      <td>0</td>\n",
       "      <td>0</td>\n",
       "      <td>0</td>\n",
       "      <td>1</td>\n",
       "    </tr>\n",
       "    <tr>\n",
       "      <th>1</th>\n",
       "      <td>0</td>\n",
       "      <td>0</td>\n",
       "      <td>0</td>\n",
       "      <td>14.902598</td>\n",
       "      <td>17.68695</td>\n",
       "      <td>69.6087</td>\n",
       "      <td>16.652113</td>\n",
       "      <td>1</td>\n",
       "      <td>1</td>\n",
       "      <td>0</td>\n",
       "      <td>...</td>\n",
       "      <td>0</td>\n",
       "      <td>0</td>\n",
       "      <td>0</td>\n",
       "      <td>0</td>\n",
       "      <td>1</td>\n",
       "      <td>0</td>\n",
       "      <td>0</td>\n",
       "      <td>0</td>\n",
       "      <td>0</td>\n",
       "      <td>1</td>\n",
       "    </tr>\n",
       "    <tr>\n",
       "      <th>2</th>\n",
       "      <td>0</td>\n",
       "      <td>0</td>\n",
       "      <td>1</td>\n",
       "      <td>8.050924</td>\n",
       "      <td>9.47025</td>\n",
       "      <td>43.7273</td>\n",
       "      <td>16.636703</td>\n",
       "      <td>2</td>\n",
       "      <td>1</td>\n",
       "      <td>0</td>\n",
       "      <td>...</td>\n",
       "      <td>0</td>\n",
       "      <td>0</td>\n",
       "      <td>1</td>\n",
       "      <td>0</td>\n",
       "      <td>0</td>\n",
       "      <td>0</td>\n",
       "      <td>0</td>\n",
       "      <td>0</td>\n",
       "      <td>0</td>\n",
       "      <td>0</td>\n",
       "    </tr>\n",
       "    <tr>\n",
       "      <th>3</th>\n",
       "      <td>0</td>\n",
       "      <td>0</td>\n",
       "      <td>1</td>\n",
       "      <td>8.200000</td>\n",
       "      <td>10.60610</td>\n",
       "      <td>59.0435</td>\n",
       "      <td>10.739832</td>\n",
       "      <td>3</td>\n",
       "      <td>1</td>\n",
       "      <td>0</td>\n",
       "      <td>...</td>\n",
       "      <td>0</td>\n",
       "      <td>0</td>\n",
       "      <td>0</td>\n",
       "      <td>0</td>\n",
       "      <td>0</td>\n",
       "      <td>0</td>\n",
       "      <td>1</td>\n",
       "      <td>0</td>\n",
       "      <td>0</td>\n",
       "      <td>0</td>\n",
       "    </tr>\n",
       "    <tr>\n",
       "      <th>4</th>\n",
       "      <td>0</td>\n",
       "      <td>0</td>\n",
       "      <td>1</td>\n",
       "      <td>9.305237</td>\n",
       "      <td>11.46350</td>\n",
       "      <td>43.6957</td>\n",
       "      <td>12.522300</td>\n",
       "      <td>4</td>\n",
       "      <td>1</td>\n",
       "      <td>0</td>\n",
       "      <td>...</td>\n",
       "      <td>0</td>\n",
       "      <td>0</td>\n",
       "      <td>0</td>\n",
       "      <td>0</td>\n",
       "      <td>0</td>\n",
       "      <td>0</td>\n",
       "      <td>0</td>\n",
       "      <td>1</td>\n",
       "      <td>0</td>\n",
       "      <td>0</td>\n",
       "    </tr>\n",
       "  </tbody>\n",
       "</table>\n",
       "<p>5 rows × 30 columns</p>\n",
       "</div>"
      ],
      "text/plain": [
       "   yr  holiday  workingday       temp     atemp      hum  windspeed  days_old  \\\n",
       "0   0        0           0  14.110847  18.18125  80.5833  10.749882         0   \n",
       "1   0        0           0  14.902598  17.68695  69.6087  16.652113         1   \n",
       "2   0        0           1   8.050924   9.47025  43.7273  16.636703         2   \n",
       "3   0        0           1   8.200000  10.60610  59.0435  10.739832         3   \n",
       "4   0        0           1   9.305237  11.46350  43.6957  12.522300         4   \n",
       "\n",
       "   season_Spring  season_Summer  ...  mnth_Oct  mnth_Sept  weekday_Mon  \\\n",
       "0              1              0  ...         0          0            0   \n",
       "1              1              0  ...         0          0            0   \n",
       "2              1              0  ...         0          0            1   \n",
       "3              1              0  ...         0          0            0   \n",
       "4              1              0  ...         0          0            0   \n",
       "\n",
       "   weekday_Sat  weekday_Sun  weekday_Thur  weekday_Tues  weekday_Wed  \\\n",
       "0            1            0             0             0            0   \n",
       "1            0            1             0             0            0   \n",
       "2            0            0             0             0            0   \n",
       "3            0            0             0             1            0   \n",
       "4            0            0             0             0            1   \n",
       "\n",
       "   weathersit_LightRain_LightSnow_Thunderstorm  weathersit_Mist_Cloudy  \n",
       "0                                            0                       1  \n",
       "1                                            0                       1  \n",
       "2                                            0                       0  \n",
       "3                                            0                       0  \n",
       "4                                            0                       0  \n",
       "\n",
       "[5 rows x 30 columns]"
      ]
     },
     "execution_count": 44,
     "metadata": {},
     "output_type": "execute_result"
    }
   ],
   "source": [
    "X.head()"
   ]
  },
  {
   "cell_type": "code",
   "execution_count": 45,
   "metadata": {},
   "outputs": [
    {
     "data": {
      "text/plain": [
       "0     985\n",
       "1     801\n",
       "2    1349\n",
       "3    1562\n",
       "4    1600\n",
       "Name: cnt, dtype: int64"
      ]
     },
     "execution_count": 45,
     "metadata": {},
     "output_type": "execute_result"
    }
   ],
   "source": [
    "y.head()"
   ]
  },
  {
   "cell_type": "code",
   "execution_count": 46,
   "metadata": {},
   "outputs": [],
   "source": [
    "#splitting the data \n",
    "X_train, X_test, y_train, y_test = train_test_split(X, y, test_size=0.3, random_state=100)"
   ]
  },
  {
   "cell_type": "code",
   "execution_count": 47,
   "metadata": {},
   "outputs": [
    {
     "data": {
      "text/plain": [
       "(511, 30)"
      ]
     },
     "execution_count": 47,
     "metadata": {},
     "output_type": "execute_result"
    }
   ],
   "source": [
    "#shape after the split\n",
    "X_train.shape"
   ]
  },
  {
   "cell_type": "code",
   "execution_count": 48,
   "metadata": {},
   "outputs": [
    {
     "data": {
      "text/plain": [
       "(219, 30)"
      ]
     },
     "execution_count": 48,
     "metadata": {},
     "output_type": "execute_result"
    }
   ],
   "source": [
    "X_test.shape"
   ]
  },
  {
   "cell_type": "markdown",
   "metadata": {},
   "source": [
    "#### Feature Scaling continuous variables"
   ]
  },
  {
   "cell_type": "code",
   "execution_count": 49,
   "metadata": {},
   "outputs": [],
   "source": [
    "num_vars = ['temp','atemp','hum','windspeed','days_old']"
   ]
  },
  {
   "cell_type": "code",
   "execution_count": 50,
   "metadata": {},
   "outputs": [],
   "source": [
    "#using MinMaxScaler\n",
    "scaler = MinMaxScaler()"
   ]
  },
  {
   "cell_type": "code",
   "execution_count": 51,
   "metadata": {},
   "outputs": [],
   "source": [
    "X_train[num_vars] = scaler.fit_transform(X_train[num_vars])"
   ]
  },
  {
   "cell_type": "code",
   "execution_count": 52,
   "metadata": {},
   "outputs": [
    {
     "data": {
      "text/html": [
       "<div>\n",
       "<style scoped>\n",
       "    .dataframe tbody tr th:only-of-type {\n",
       "        vertical-align: middle;\n",
       "    }\n",
       "\n",
       "    .dataframe tbody tr th {\n",
       "        vertical-align: top;\n",
       "    }\n",
       "\n",
       "    .dataframe thead th {\n",
       "        text-align: right;\n",
       "    }\n",
       "</style>\n",
       "<table border=\"1\" class=\"dataframe\">\n",
       "  <thead>\n",
       "    <tr style=\"text-align: right;\">\n",
       "      <th></th>\n",
       "      <th>yr</th>\n",
       "      <th>holiday</th>\n",
       "      <th>workingday</th>\n",
       "      <th>temp</th>\n",
       "      <th>atemp</th>\n",
       "      <th>hum</th>\n",
       "      <th>windspeed</th>\n",
       "      <th>days_old</th>\n",
       "      <th>season_Spring</th>\n",
       "      <th>season_Summer</th>\n",
       "      <th>...</th>\n",
       "      <th>mnth_Oct</th>\n",
       "      <th>mnth_Sept</th>\n",
       "      <th>weekday_Mon</th>\n",
       "      <th>weekday_Sat</th>\n",
       "      <th>weekday_Sun</th>\n",
       "      <th>weekday_Thur</th>\n",
       "      <th>weekday_Tues</th>\n",
       "      <th>weekday_Wed</th>\n",
       "      <th>weathersit_LightRain_LightSnow_Thunderstorm</th>\n",
       "      <th>weathersit_Mist_Cloudy</th>\n",
       "    </tr>\n",
       "  </thead>\n",
       "  <tbody>\n",
       "    <tr>\n",
       "      <th>count</th>\n",
       "      <td>511.000000</td>\n",
       "      <td>511.000000</td>\n",
       "      <td>511.000000</td>\n",
       "      <td>511.000000</td>\n",
       "      <td>511.000000</td>\n",
       "      <td>511.000000</td>\n",
       "      <td>511.000000</td>\n",
       "      <td>511.000000</td>\n",
       "      <td>511.000000</td>\n",
       "      <td>511.000000</td>\n",
       "      <td>...</td>\n",
       "      <td>511.000000</td>\n",
       "      <td>511.000000</td>\n",
       "      <td>511.000000</td>\n",
       "      <td>511.000000</td>\n",
       "      <td>511.000000</td>\n",
       "      <td>511.000000</td>\n",
       "      <td>511.000000</td>\n",
       "      <td>511.000000</td>\n",
       "      <td>511.000000</td>\n",
       "      <td>511.000000</td>\n",
       "    </tr>\n",
       "    <tr>\n",
       "      <th>mean</th>\n",
       "      <td>0.508806</td>\n",
       "      <td>0.025440</td>\n",
       "      <td>0.677104</td>\n",
       "      <td>0.537386</td>\n",
       "      <td>0.513133</td>\n",
       "      <td>0.650333</td>\n",
       "      <td>0.320844</td>\n",
       "      <td>0.505822</td>\n",
       "      <td>0.242661</td>\n",
       "      <td>0.246575</td>\n",
       "      <td>...</td>\n",
       "      <td>0.086106</td>\n",
       "      <td>0.080235</td>\n",
       "      <td>0.150685</td>\n",
       "      <td>0.154599</td>\n",
       "      <td>0.142857</td>\n",
       "      <td>0.133072</td>\n",
       "      <td>0.133072</td>\n",
       "      <td>0.158513</td>\n",
       "      <td>0.029354</td>\n",
       "      <td>0.344423</td>\n",
       "    </tr>\n",
       "    <tr>\n",
       "      <th>std</th>\n",
       "      <td>0.500412</td>\n",
       "      <td>0.157613</td>\n",
       "      <td>0.468042</td>\n",
       "      <td>0.225640</td>\n",
       "      <td>0.212202</td>\n",
       "      <td>0.145741</td>\n",
       "      <td>0.169639</td>\n",
       "      <td>0.288146</td>\n",
       "      <td>0.429112</td>\n",
       "      <td>0.431440</td>\n",
       "      <td>...</td>\n",
       "      <td>0.280795</td>\n",
       "      <td>0.271923</td>\n",
       "      <td>0.358092</td>\n",
       "      <td>0.361876</td>\n",
       "      <td>0.350270</td>\n",
       "      <td>0.339986</td>\n",
       "      <td>0.339986</td>\n",
       "      <td>0.365579</td>\n",
       "      <td>0.168963</td>\n",
       "      <td>0.475645</td>\n",
       "    </tr>\n",
       "    <tr>\n",
       "      <th>min</th>\n",
       "      <td>0.000000</td>\n",
       "      <td>0.000000</td>\n",
       "      <td>0.000000</td>\n",
       "      <td>0.000000</td>\n",
       "      <td>0.000000</td>\n",
       "      <td>0.000000</td>\n",
       "      <td>0.000000</td>\n",
       "      <td>0.000000</td>\n",
       "      <td>0.000000</td>\n",
       "      <td>0.000000</td>\n",
       "      <td>...</td>\n",
       "      <td>0.000000</td>\n",
       "      <td>0.000000</td>\n",
       "      <td>0.000000</td>\n",
       "      <td>0.000000</td>\n",
       "      <td>0.000000</td>\n",
       "      <td>0.000000</td>\n",
       "      <td>0.000000</td>\n",
       "      <td>0.000000</td>\n",
       "      <td>0.000000</td>\n",
       "      <td>0.000000</td>\n",
       "    </tr>\n",
       "    <tr>\n",
       "      <th>25%</th>\n",
       "      <td>0.000000</td>\n",
       "      <td>0.000000</td>\n",
       "      <td>0.000000</td>\n",
       "      <td>0.341151</td>\n",
       "      <td>0.332910</td>\n",
       "      <td>0.538858</td>\n",
       "      <td>0.199179</td>\n",
       "      <td>0.256181</td>\n",
       "      <td>0.000000</td>\n",
       "      <td>0.000000</td>\n",
       "      <td>...</td>\n",
       "      <td>0.000000</td>\n",
       "      <td>0.000000</td>\n",
       "      <td>0.000000</td>\n",
       "      <td>0.000000</td>\n",
       "      <td>0.000000</td>\n",
       "      <td>0.000000</td>\n",
       "      <td>0.000000</td>\n",
       "      <td>0.000000</td>\n",
       "      <td>0.000000</td>\n",
       "      <td>0.000000</td>\n",
       "    </tr>\n",
       "    <tr>\n",
       "      <th>50%</th>\n",
       "      <td>1.000000</td>\n",
       "      <td>0.000000</td>\n",
       "      <td>1.000000</td>\n",
       "      <td>0.542077</td>\n",
       "      <td>0.529300</td>\n",
       "      <td>0.653499</td>\n",
       "      <td>0.298098</td>\n",
       "      <td>0.512363</td>\n",
       "      <td>0.000000</td>\n",
       "      <td>0.000000</td>\n",
       "      <td>...</td>\n",
       "      <td>0.000000</td>\n",
       "      <td>0.000000</td>\n",
       "      <td>0.000000</td>\n",
       "      <td>0.000000</td>\n",
       "      <td>0.000000</td>\n",
       "      <td>0.000000</td>\n",
       "      <td>0.000000</td>\n",
       "      <td>0.000000</td>\n",
       "      <td>0.000000</td>\n",
       "      <td>0.000000</td>\n",
       "    </tr>\n",
       "    <tr>\n",
       "      <th>75%</th>\n",
       "      <td>1.000000</td>\n",
       "      <td>0.000000</td>\n",
       "      <td>1.000000</td>\n",
       "      <td>0.735215</td>\n",
       "      <td>0.688457</td>\n",
       "      <td>0.754401</td>\n",
       "      <td>0.414438</td>\n",
       "      <td>0.758929</td>\n",
       "      <td>0.000000</td>\n",
       "      <td>0.000000</td>\n",
       "      <td>...</td>\n",
       "      <td>0.000000</td>\n",
       "      <td>0.000000</td>\n",
       "      <td>0.000000</td>\n",
       "      <td>0.000000</td>\n",
       "      <td>0.000000</td>\n",
       "      <td>0.000000</td>\n",
       "      <td>0.000000</td>\n",
       "      <td>0.000000</td>\n",
       "      <td>0.000000</td>\n",
       "      <td>1.000000</td>\n",
       "    </tr>\n",
       "    <tr>\n",
       "      <th>max</th>\n",
       "      <td>1.000000</td>\n",
       "      <td>1.000000</td>\n",
       "      <td>1.000000</td>\n",
       "      <td>1.000000</td>\n",
       "      <td>1.000000</td>\n",
       "      <td>1.000000</td>\n",
       "      <td>1.000000</td>\n",
       "      <td>1.000000</td>\n",
       "      <td>1.000000</td>\n",
       "      <td>1.000000</td>\n",
       "      <td>...</td>\n",
       "      <td>1.000000</td>\n",
       "      <td>1.000000</td>\n",
       "      <td>1.000000</td>\n",
       "      <td>1.000000</td>\n",
       "      <td>1.000000</td>\n",
       "      <td>1.000000</td>\n",
       "      <td>1.000000</td>\n",
       "      <td>1.000000</td>\n",
       "      <td>1.000000</td>\n",
       "      <td>1.000000</td>\n",
       "    </tr>\n",
       "  </tbody>\n",
       "</table>\n",
       "<p>8 rows × 30 columns</p>\n",
       "</div>"
      ],
      "text/plain": [
       "               yr     holiday  workingday        temp       atemp         hum  \\\n",
       "count  511.000000  511.000000  511.000000  511.000000  511.000000  511.000000   \n",
       "mean     0.508806    0.025440    0.677104    0.537386    0.513133    0.650333   \n",
       "std      0.500412    0.157613    0.468042    0.225640    0.212202    0.145741   \n",
       "min      0.000000    0.000000    0.000000    0.000000    0.000000    0.000000   \n",
       "25%      0.000000    0.000000    0.000000    0.341151    0.332910    0.538858   \n",
       "50%      1.000000    0.000000    1.000000    0.542077    0.529300    0.653499   \n",
       "75%      1.000000    0.000000    1.000000    0.735215    0.688457    0.754401   \n",
       "max      1.000000    1.000000    1.000000    1.000000    1.000000    1.000000   \n",
       "\n",
       "        windspeed    days_old  season_Spring  season_Summer  ...    mnth_Oct  \\\n",
       "count  511.000000  511.000000     511.000000     511.000000  ...  511.000000   \n",
       "mean     0.320844    0.505822       0.242661       0.246575  ...    0.086106   \n",
       "std      0.169639    0.288146       0.429112       0.431440  ...    0.280795   \n",
       "min      0.000000    0.000000       0.000000       0.000000  ...    0.000000   \n",
       "25%      0.199179    0.256181       0.000000       0.000000  ...    0.000000   \n",
       "50%      0.298098    0.512363       0.000000       0.000000  ...    0.000000   \n",
       "75%      0.414438    0.758929       0.000000       0.000000  ...    0.000000   \n",
       "max      1.000000    1.000000       1.000000       1.000000  ...    1.000000   \n",
       "\n",
       "        mnth_Sept  weekday_Mon  weekday_Sat  weekday_Sun  weekday_Thur  \\\n",
       "count  511.000000   511.000000   511.000000   511.000000    511.000000   \n",
       "mean     0.080235     0.150685     0.154599     0.142857      0.133072   \n",
       "std      0.271923     0.358092     0.361876     0.350270      0.339986   \n",
       "min      0.000000     0.000000     0.000000     0.000000      0.000000   \n",
       "25%      0.000000     0.000000     0.000000     0.000000      0.000000   \n",
       "50%      0.000000     0.000000     0.000000     0.000000      0.000000   \n",
       "75%      0.000000     0.000000     0.000000     0.000000      0.000000   \n",
       "max      1.000000     1.000000     1.000000     1.000000      1.000000   \n",
       "\n",
       "       weekday_Tues  weekday_Wed  weathersit_LightRain_LightSnow_Thunderstorm  \\\n",
       "count    511.000000   511.000000                                   511.000000   \n",
       "mean       0.133072     0.158513                                     0.029354   \n",
       "std        0.339986     0.365579                                     0.168963   \n",
       "min        0.000000     0.000000                                     0.000000   \n",
       "25%        0.000000     0.000000                                     0.000000   \n",
       "50%        0.000000     0.000000                                     0.000000   \n",
       "75%        0.000000     0.000000                                     0.000000   \n",
       "max        1.000000     1.000000                                     1.000000   \n",
       "\n",
       "       weathersit_Mist_Cloudy  \n",
       "count              511.000000  \n",
       "mean                 0.344423  \n",
       "std                  0.475645  \n",
       "min                  0.000000  \n",
       "25%                  0.000000  \n",
       "50%                  0.000000  \n",
       "75%                  1.000000  \n",
       "max                  1.000000  \n",
       "\n",
       "[8 rows x 30 columns]"
      ]
     },
     "execution_count": 52,
     "metadata": {},
     "output_type": "execute_result"
    }
   ],
   "source": [
    "#statistics after scaling\n",
    "X_train.describe()"
   ]
  },
  {
   "cell_type": "code",
   "execution_count": 53,
   "metadata": {},
   "outputs": [
    {
     "data": {
      "text/html": [
       "<div>\n",
       "<style scoped>\n",
       "    .dataframe tbody tr th:only-of-type {\n",
       "        vertical-align: middle;\n",
       "    }\n",
       "\n",
       "    .dataframe tbody tr th {\n",
       "        vertical-align: top;\n",
       "    }\n",
       "\n",
       "    .dataframe thead th {\n",
       "        text-align: right;\n",
       "    }\n",
       "</style>\n",
       "<table border=\"1\" class=\"dataframe\">\n",
       "  <thead>\n",
       "    <tr style=\"text-align: right;\">\n",
       "      <th></th>\n",
       "      <th>yr</th>\n",
       "      <th>holiday</th>\n",
       "      <th>workingday</th>\n",
       "      <th>temp</th>\n",
       "      <th>atemp</th>\n",
       "      <th>hum</th>\n",
       "      <th>windspeed</th>\n",
       "      <th>days_old</th>\n",
       "      <th>season_Spring</th>\n",
       "      <th>season_Summer</th>\n",
       "      <th>...</th>\n",
       "      <th>mnth_Oct</th>\n",
       "      <th>mnth_Sept</th>\n",
       "      <th>weekday_Mon</th>\n",
       "      <th>weekday_Sat</th>\n",
       "      <th>weekday_Sun</th>\n",
       "      <th>weekday_Thur</th>\n",
       "      <th>weekday_Tues</th>\n",
       "      <th>weekday_Wed</th>\n",
       "      <th>weathersit_LightRain_LightSnow_Thunderstorm</th>\n",
       "      <th>weathersit_Mist_Cloudy</th>\n",
       "    </tr>\n",
       "  </thead>\n",
       "  <tbody>\n",
       "    <tr>\n",
       "      <th>653</th>\n",
       "      <td>1</td>\n",
       "      <td>0</td>\n",
       "      <td>1</td>\n",
       "      <td>0.509887</td>\n",
       "      <td>0.501133</td>\n",
       "      <td>0.575354</td>\n",
       "      <td>0.300794</td>\n",
       "      <td>0.896978</td>\n",
       "      <td>0</td>\n",
       "      <td>0</td>\n",
       "      <td>...</td>\n",
       "      <td>1</td>\n",
       "      <td>0</td>\n",
       "      <td>0</td>\n",
       "      <td>0</td>\n",
       "      <td>0</td>\n",
       "      <td>0</td>\n",
       "      <td>1</td>\n",
       "      <td>0</td>\n",
       "      <td>0</td>\n",
       "      <td>0</td>\n",
       "    </tr>\n",
       "    <tr>\n",
       "      <th>576</th>\n",
       "      <td>1</td>\n",
       "      <td>0</td>\n",
       "      <td>1</td>\n",
       "      <td>0.815169</td>\n",
       "      <td>0.766351</td>\n",
       "      <td>0.725633</td>\n",
       "      <td>0.264686</td>\n",
       "      <td>0.791209</td>\n",
       "      <td>0</td>\n",
       "      <td>0</td>\n",
       "      <td>...</td>\n",
       "      <td>0</td>\n",
       "      <td>0</td>\n",
       "      <td>0</td>\n",
       "      <td>0</td>\n",
       "      <td>0</td>\n",
       "      <td>0</td>\n",
       "      <td>1</td>\n",
       "      <td>0</td>\n",
       "      <td>0</td>\n",
       "      <td>0</td>\n",
       "    </tr>\n",
       "    <tr>\n",
       "      <th>426</th>\n",
       "      <td>1</td>\n",
       "      <td>0</td>\n",
       "      <td>0</td>\n",
       "      <td>0.442393</td>\n",
       "      <td>0.438975</td>\n",
       "      <td>0.640189</td>\n",
       "      <td>0.255342</td>\n",
       "      <td>0.585165</td>\n",
       "      <td>1</td>\n",
       "      <td>0</td>\n",
       "      <td>...</td>\n",
       "      <td>0</td>\n",
       "      <td>0</td>\n",
       "      <td>0</td>\n",
       "      <td>1</td>\n",
       "      <td>0</td>\n",
       "      <td>0</td>\n",
       "      <td>0</td>\n",
       "      <td>0</td>\n",
       "      <td>0</td>\n",
       "      <td>1</td>\n",
       "    </tr>\n",
       "    <tr>\n",
       "      <th>728</th>\n",
       "      <td>1</td>\n",
       "      <td>0</td>\n",
       "      <td>0</td>\n",
       "      <td>0.245101</td>\n",
       "      <td>0.200348</td>\n",
       "      <td>0.498067</td>\n",
       "      <td>0.663106</td>\n",
       "      <td>1.000000</td>\n",
       "      <td>1</td>\n",
       "      <td>0</td>\n",
       "      <td>...</td>\n",
       "      <td>0</td>\n",
       "      <td>0</td>\n",
       "      <td>0</td>\n",
       "      <td>0</td>\n",
       "      <td>1</td>\n",
       "      <td>0</td>\n",
       "      <td>0</td>\n",
       "      <td>0</td>\n",
       "      <td>0</td>\n",
       "      <td>0</td>\n",
       "    </tr>\n",
       "    <tr>\n",
       "      <th>482</th>\n",
       "      <td>1</td>\n",
       "      <td>0</td>\n",
       "      <td>0</td>\n",
       "      <td>0.395666</td>\n",
       "      <td>0.391735</td>\n",
       "      <td>0.504508</td>\n",
       "      <td>0.188475</td>\n",
       "      <td>0.662088</td>\n",
       "      <td>0</td>\n",
       "      <td>1</td>\n",
       "      <td>...</td>\n",
       "      <td>0</td>\n",
       "      <td>0</td>\n",
       "      <td>0</td>\n",
       "      <td>1</td>\n",
       "      <td>0</td>\n",
       "      <td>0</td>\n",
       "      <td>0</td>\n",
       "      <td>0</td>\n",
       "      <td>0</td>\n",
       "      <td>1</td>\n",
       "    </tr>\n",
       "  </tbody>\n",
       "</table>\n",
       "<p>5 rows × 30 columns</p>\n",
       "</div>"
      ],
      "text/plain": [
       "     yr  holiday  workingday      temp     atemp       hum  windspeed  \\\n",
       "653   1        0           1  0.509887  0.501133  0.575354   0.300794   \n",
       "576   1        0           1  0.815169  0.766351  0.725633   0.264686   \n",
       "426   1        0           0  0.442393  0.438975  0.640189   0.255342   \n",
       "728   1        0           0  0.245101  0.200348  0.498067   0.663106   \n",
       "482   1        0           0  0.395666  0.391735  0.504508   0.188475   \n",
       "\n",
       "     days_old  season_Spring  season_Summer  ...  mnth_Oct  mnth_Sept  \\\n",
       "653  0.896978              0              0  ...         1          0   \n",
       "576  0.791209              0              0  ...         0          0   \n",
       "426  0.585165              1              0  ...         0          0   \n",
       "728  1.000000              1              0  ...         0          0   \n",
       "482  0.662088              0              1  ...         0          0   \n",
       "\n",
       "     weekday_Mon  weekday_Sat  weekday_Sun  weekday_Thur  weekday_Tues  \\\n",
       "653            0            0            0             0             1   \n",
       "576            0            0            0             0             1   \n",
       "426            0            1            0             0             0   \n",
       "728            0            0            1             0             0   \n",
       "482            0            1            0             0             0   \n",
       "\n",
       "     weekday_Wed  weathersit_LightRain_LightSnow_Thunderstorm  \\\n",
       "653            0                                            0   \n",
       "576            0                                            0   \n",
       "426            0                                            0   \n",
       "728            0                                            0   \n",
       "482            0                                            0   \n",
       "\n",
       "     weathersit_Mist_Cloudy  \n",
       "653                       0  \n",
       "576                       0  \n",
       "426                       1  \n",
       "728                       0  \n",
       "482                       1  \n",
       "\n",
       "[5 rows x 30 columns]"
      ]
     },
     "execution_count": 53,
     "metadata": {},
     "output_type": "execute_result"
    }
   ],
   "source": [
    "X_train.head()"
   ]
  },
  {
   "cell_type": "markdown",
   "metadata": {},
   "source": [
    "#### Using RFE"
   ]
  },
  {
   "cell_type": "code",
   "execution_count": 54,
   "metadata": {},
   "outputs": [
    {
     "data": {
      "text/plain": [
       "LinearRegression(copy_X=True, fit_intercept=True, n_jobs=None, normalize=False)"
      ]
     },
     "execution_count": 54,
     "metadata": {},
     "output_type": "execute_result"
    }
   ],
   "source": [
    "#Lienar Regression model using sklearn for RFE\n",
    "lr = LinearRegression()\n",
    "lr.fit(X_train,y_train)"
   ]
  },
  {
   "cell_type": "code",
   "execution_count": 55,
   "metadata": {},
   "outputs": [
    {
     "data": {
      "text/plain": [
       "RFE(estimator=LinearRegression(copy_X=True, fit_intercept=True, n_jobs=None,\n",
       "                               normalize=False),\n",
       "    n_features_to_select=15, step=1, verbose=0)"
      ]
     },
     "execution_count": 55,
     "metadata": {},
     "output_type": "execute_result"
    }
   ],
   "source": [
    "#reducing the number of features to 15 using automated approach\n",
    "rfe = RFE(lr,15)\n",
    "rfe.fit(X_train,y_train)"
   ]
  },
  {
   "cell_type": "code",
   "execution_count": 56,
   "metadata": {},
   "outputs": [
    {
     "data": {
      "text/plain": [
       "[('yr', True, 1),\n",
       " ('holiday', True, 1),\n",
       " ('workingday', True, 1),\n",
       " ('temp', True, 1),\n",
       " ('atemp', False, 7),\n",
       " ('hum', True, 1),\n",
       " ('windspeed', True, 1),\n",
       " ('days_old', True, 1),\n",
       " ('season_Spring', True, 1),\n",
       " ('season_Summer', False, 2),\n",
       " ('season_Winter', True, 1),\n",
       " ('mnth_Aug', False, 5),\n",
       " ('mnth_Dec', False, 15),\n",
       " ('mnth_Feb', False, 4),\n",
       " ('mnth_Jan', True, 1),\n",
       " ('mnth_Jul', True, 1),\n",
       " ('mnth_Jun', False, 8),\n",
       " ('mnth_Mar', False, 16),\n",
       " ('mnth_May', False, 6),\n",
       " ('mnth_Nov', False, 14),\n",
       " ('mnth_Oct', False, 3),\n",
       " ('mnth_Sept', True, 1),\n",
       " ('weekday_Mon', False, 10),\n",
       " ('weekday_Sat', True, 1),\n",
       " ('weekday_Sun', False, 9),\n",
       " ('weekday_Thur', False, 12),\n",
       " ('weekday_Tues', False, 11),\n",
       " ('weekday_Wed', False, 13),\n",
       " ('weathersit_LightRain_LightSnow_Thunderstorm', True, 1),\n",
       " ('weathersit_Mist_Cloudy', True, 1)]"
      ]
     },
     "execution_count": 56,
     "metadata": {},
     "output_type": "execute_result"
    }
   ],
   "source": [
    "list(zip(X_train.columns,rfe.support_,rfe.ranking_))"
   ]
  },
  {
   "cell_type": "code",
   "execution_count": 57,
   "metadata": {},
   "outputs": [
    {
     "data": {
      "text/plain": [
       "Index(['yr', 'holiday', 'workingday', 'temp', 'hum', 'windspeed', 'days_old',\n",
       "       'season_Spring', 'season_Winter', 'mnth_Jan', 'mnth_Jul', 'mnth_Sept',\n",
       "       'weekday_Sat', 'weathersit_LightRain_LightSnow_Thunderstorm',\n",
       "       'weathersit_Mist_Cloudy'],\n",
       "      dtype='object')"
      ]
     },
     "execution_count": 57,
     "metadata": {},
     "output_type": "execute_result"
    }
   ],
   "source": [
    "#columns selected by RFE\n",
    "X_train.columns[rfe.support_]"
   ]
  },
  {
   "cell_type": "code",
   "execution_count": 58,
   "metadata": {},
   "outputs": [
    {
     "data": {
      "text/plain": [
       "Index(['atemp', 'season_Summer', 'mnth_Aug', 'mnth_Dec', 'mnth_Feb',\n",
       "       'mnth_Jun', 'mnth_Mar', 'mnth_May', 'mnth_Nov', 'mnth_Oct',\n",
       "       'weekday_Mon', 'weekday_Sun', 'weekday_Thur', 'weekday_Tues',\n",
       "       'weekday_Wed'],\n",
       "      dtype='object')"
      ]
     },
     "execution_count": 58,
     "metadata": {},
     "output_type": "execute_result"
    }
   ],
   "source": [
    "#columns not selected by RFE\n",
    "X_train.columns[~rfe.support_]"
   ]
  },
  {
   "cell_type": "code",
   "execution_count": 59,
   "metadata": {},
   "outputs": [
    {
     "data": {
      "text/plain": [
       "Index(['yr', 'holiday', 'workingday', 'temp', 'hum', 'windspeed', 'days_old',\n",
       "       'season_Spring', 'season_Winter', 'mnth_Jan', 'mnth_Jul', 'mnth_Sept',\n",
       "       'weekday_Sat', 'weathersit_LightRain_LightSnow_Thunderstorm',\n",
       "       'weathersit_Mist_Cloudy'],\n",
       "      dtype='object')"
      ]
     },
     "execution_count": 59,
     "metadata": {},
     "output_type": "execute_result"
    }
   ],
   "source": [
    "cols = X_train.columns[rfe.support_]\n",
    "cols"
   ]
  },
  {
   "cell_type": "code",
   "execution_count": 60,
   "metadata": {},
   "outputs": [],
   "source": [
    "X_train_rfe = X_train[cols]"
   ]
  },
  {
   "cell_type": "code",
   "execution_count": 61,
   "metadata": {
    "scrolled": true
   },
   "outputs": [
    {
     "data": {
      "text/plain": [
       "(511, 15)"
      ]
     },
     "execution_count": 61,
     "metadata": {},
     "output_type": "execute_result"
    }
   ],
   "source": [
    "X_train_rfe.shape"
   ]
  },
  {
   "cell_type": "markdown",
   "metadata": {},
   "source": [
    "## 7. Model Building"
   ]
  },
  {
   "cell_type": "markdown",
   "metadata": {},
   "source": [
    "#### Starting with all the variables selected by RFE"
   ]
  },
  {
   "cell_type": "markdown",
   "metadata": {},
   "source": [
    "#### Model 1 -"
   ]
  },
  {
   "cell_type": "markdown",
   "metadata": {},
   "source": [
    "Initially taking all the columns selected by RFE"
   ]
  },
  {
   "cell_type": "code",
   "execution_count": 62,
   "metadata": {
    "scrolled": true
   },
   "outputs": [],
   "source": [
    "#for the first column, taking all the columns selected by RFE\n",
    "cols = ['yr', 'holiday', 'workingday', 'temp', 'hum', 'windspeed', 'days_old',\n",
    "       'season_Spring', 'season_Winter', 'mnth_Jan', 'mnth_Jul', 'mnth_Sept',\n",
    "       'weekday_Sat', 'weathersit_LightRain_LightSnow_Thunderstorm',\n",
    "       'weathersit_Mist_Cloudy']"
   ]
  },
  {
   "cell_type": "code",
   "execution_count": 63,
   "metadata": {},
   "outputs": [
    {
     "name": "stdout",
     "output_type": "stream",
     "text": [
      "                            OLS Regression Results                            \n",
      "==============================================================================\n",
      "Dep. Variable:                    cnt   R-squared:                       0.847\n",
      "Model:                            OLS   Adj. R-squared:                  0.842\n",
      "Method:                 Least Squares   F-statistic:                     182.8\n",
      "Date:                Mon, 07 Jun 2021   Prob (F-statistic):          1.03e-190\n",
      "Time:                        15:56:40   Log-Likelihood:                -4116.8\n",
      "No. Observations:                 511   AIC:                             8266.\n",
      "Df Residuals:                     495   BIC:                             8333.\n",
      "Df Model:                          15                                         \n",
      "Covariance Type:            nonrobust                                         \n",
      "===============================================================================================================\n",
      "                                                  coef    std err          t      P>|t|      [0.025      0.975]\n",
      "---------------------------------------------------------------------------------------------------------------\n",
      "const                                        2846.2174    290.649      9.793      0.000    2275.159    3417.276\n",
      "yr                                           2633.7548    231.430     11.380      0.000    2179.048    3088.462\n",
      "holiday                                      -487.2748    235.046     -2.073      0.039    -949.085     -25.464\n",
      "workingday                                    380.7510    100.604      3.785      0.000     183.088     578.414\n",
      "temp                                         4138.6893    275.915     15.000      0.000    3596.580    4680.799\n",
      "hum                                         -1204.3128    324.825     -3.708      0.000   -1842.519    -566.106\n",
      "windspeed                                   -1573.8039    221.603     -7.102      0.000   -2009.203   -1138.405\n",
      "days_old                                    -1245.7475    446.165     -2.792      0.005   -2122.358    -369.137\n",
      "season_Spring                                -903.5764    132.792     -6.804      0.000   -1164.482    -642.671\n",
      "season_Winter                                 740.0665    146.346      5.057      0.000     452.531    1027.602\n",
      "mnth_Jan                                     -492.5016    159.125     -3.095      0.002    -805.145    -179.858\n",
      "mnth_Jul                                     -618.2585    148.151     -4.173      0.000    -909.341    -327.176\n",
      "mnth_Sept                                     612.4792    137.125      4.467      0.000     343.061     881.898\n",
      "weekday_Sat                                   475.5495    126.744      3.752      0.000     226.527     724.572\n",
      "weathersit_LightRain_LightSnow_Thunderstorm -2225.9816    227.234     -9.796      0.000   -2672.444   -1779.519\n",
      "weathersit_Mist_Cloudy                       -515.7075     90.478     -5.700      0.000    -693.476    -337.939\n",
      "==============================================================================\n",
      "Omnibus:                       63.727   Durbin-Watson:                   2.026\n",
      "Prob(Omnibus):                  0.000   Jarque-Bera (JB):              156.260\n",
      "Skew:                          -0.647   Prob(JB):                     1.17e-34\n",
      "Kurtosis:                       5.380   Cond. No.                         27.0\n",
      "==============================================================================\n",
      "\n",
      "Warnings:\n",
      "[1] Standard Errors assume that the covariance matrix of the errors is correctly specified.\n"
     ]
    }
   ],
   "source": [
    "X_train_sm1 = sm.add_constant(X_train[cols])\n",
    "lm = sm.OLS(y_train, X_train_sm1).fit()\n",
    "print(lm.summary())"
   ]
  },
  {
   "cell_type": "code",
   "execution_count": 64,
   "metadata": {
    "scrolled": true
   },
   "outputs": [
    {
     "name": "stdout",
     "output_type": "stream",
     "text": [
      "                                       Features    VIF\n",
      "6                                      days_old  54.81\n",
      "4                                           hum  25.50\n",
      "0                                            yr  22.55\n",
      "3                                          temp  18.33\n",
      "2                                    workingday   5.25\n",
      "8                                 season_Winter   4.48\n",
      "5                                     windspeed   4.18\n",
      "7                                 season_Spring   2.97\n",
      "14                       weathersit_Mist_Cloudy   2.26\n",
      "12                                  weekday_Sat   1.97\n",
      "9                                      mnth_Jan   1.83\n",
      "10                                     mnth_Jul   1.42\n",
      "11                                    mnth_Sept   1.27\n",
      "13  weathersit_LightRain_LightSnow_Thunderstorm   1.22\n",
      "1                                       holiday   1.18\n"
     ]
    }
   ],
   "source": [
    "vif = pd.DataFrame()\n",
    "vif['Features'] = X_train[cols].columns\n",
    "vif['VIF'] = [variance_inflation_factor(X_train[cols].values, i) for i in range(X_train[cols].shape[1])]\n",
    "vif['VIF'] = round(vif['VIF'],2)\n",
    "print(vif.sort_values(by='VIF',ascending=False))"
   ]
  },
  {
   "cell_type": "markdown",
   "metadata": {},
   "source": [
    "Dropping the variable days_old as it has a very high VIF."
   ]
  },
  {
   "cell_type": "markdown",
   "metadata": {},
   "source": [
    "#### Model 2 -"
   ]
  },
  {
   "cell_type": "markdown",
   "metadata": {},
   "source": [
    "Dropping 'days_old' column from the previous model for the second model"
   ]
  },
  {
   "cell_type": "code",
   "execution_count": 65,
   "metadata": {},
   "outputs": [],
   "source": [
    "cols = ['yr', 'holiday', 'workingday', 'temp', 'hum', 'windspeed',\n",
    "       'season_Spring', 'season_Winter', 'mnth_Jan', 'mnth_Jul', 'mnth_Sept',\n",
    "       'weekday_Sat', 'weathersit_LightRain_LightSnow_Thunderstorm',\n",
    "       'weathersit_Mist_Cloudy']"
   ]
  },
  {
   "cell_type": "code",
   "execution_count": 66,
   "metadata": {},
   "outputs": [
    {
     "name": "stdout",
     "output_type": "stream",
     "text": [
      "                            OLS Regression Results                            \n",
      "==============================================================================\n",
      "Dep. Variable:                    cnt   R-squared:                       0.845\n",
      "Model:                            OLS   Adj. R-squared:                  0.840\n",
      "Method:                 Least Squares   F-statistic:                     192.7\n",
      "Date:                Mon, 07 Jun 2021   Prob (F-statistic):          3.43e-190\n",
      "Time:                        15:56:57   Log-Likelihood:                -4120.8\n",
      "No. Observations:                 511   AIC:                             8272.\n",
      "Df Residuals:                     496   BIC:                             8335.\n",
      "Df Model:                          14                                         \n",
      "Covariance Type:            nonrobust                                         \n",
      "===============================================================================================================\n",
      "                                                  coef    std err          t      P>|t|      [0.025      0.975]\n",
      "---------------------------------------------------------------------------------------------------------------\n",
      "const                                        2676.5170    286.164      9.353      0.000    2114.273    3238.761\n",
      "yr                                           2017.6880     70.305     28.699      0.000    1879.556    2155.820\n",
      "holiday                                      -513.7429    236.458     -2.173      0.030    -978.326     -49.160\n",
      "workingday                                    378.2175    101.286      3.734      0.000     179.214     577.221\n",
      "temp                                         4002.6442    273.433     14.638      0.000    3465.414    4539.875\n",
      "hum                                         -1254.6113    326.540     -3.842      0.000   -1896.183    -613.040\n",
      "windspeed                                   -1527.8054    222.499     -6.867      0.000   -1964.962   -1090.649\n",
      "season_Spring                                -859.9503    132.770     -6.477      0.000   -1120.811    -599.090\n",
      "season_Winter                                 460.9515    107.613      4.283      0.000     249.518     672.385\n",
      "mnth_Jan                                     -350.5662    151.816     -2.309      0.021    -648.848     -52.284\n",
      "mnth_Jul                                     -651.0474    148.693     -4.378      0.000    -943.193    -358.901\n",
      "mnth_Sept                                     518.8938    133.873      3.876      0.000     255.865     781.922\n",
      "weekday_Sat                                   462.0012    127.516      3.623      0.000     211.464     712.539\n",
      "weathersit_LightRain_LightSnow_Thunderstorm -2198.5111    228.571     -9.619      0.000   -2647.598   -1749.424\n",
      "weathersit_Mist_Cloudy                       -503.9055     90.996     -5.538      0.000    -682.691    -325.120\n",
      "==============================================================================\n",
      "Omnibus:                       62.889   Durbin-Watson:                   2.034\n",
      "Prob(Omnibus):                  0.000   Jarque-Bera (JB):              159.779\n",
      "Skew:                          -0.627   Prob(JB):                     2.02e-35\n",
      "Kurtosis:                       5.435   Cond. No.                         20.8\n",
      "==============================================================================\n",
      "\n",
      "Warnings:\n",
      "[1] Standard Errors assume that the covariance matrix of the errors is correctly specified.\n"
     ]
    }
   ],
   "source": [
    "X_train_sm2 = sm.add_constant(X_train[cols])\n",
    "lm = sm.OLS(y_train, X_train_sm2).fit()\n",
    "print(lm.summary())"
   ]
  },
  {
   "cell_type": "code",
   "execution_count": 67,
   "metadata": {
    "scrolled": true
   },
   "outputs": [
    {
     "name": "stdout",
     "output_type": "stream",
     "text": [
      "                                       Features    VIF\n",
      "4                                           hum  24.14\n",
      "3                                          temp  16.76\n",
      "2                                    workingday   5.21\n",
      "5                                     windspeed   4.17\n",
      "6                                 season_Spring   2.97\n",
      "13                       weathersit_Mist_Cloudy   2.24\n",
      "7                                 season_Winter   2.13\n",
      "0                                            yr   2.08\n",
      "11                                  weekday_Sat   1.95\n",
      "8                                      mnth_Jan   1.67\n",
      "9                                      mnth_Jul   1.41\n",
      "12  weathersit_LightRain_LightSnow_Thunderstorm   1.21\n",
      "10                                    mnth_Sept   1.20\n",
      "1                                       holiday   1.17\n"
     ]
    }
   ],
   "source": [
    "vif = pd.DataFrame()\n",
    "vif['Features'] = X_train[cols].columns\n",
    "vif['VIF'] = [variance_inflation_factor(X_train[cols].values, i) for i in range(X_train[cols].shape[1])]\n",
    "vif['VIF'] = round(vif['VIF'],2)\n",
    "print(vif.sort_values(by='VIF',ascending=False))"
   ]
  },
  {
   "cell_type": "markdown",
   "metadata": {},
   "source": [
    "Dropping the variable mnth_Jan as it has a comparatively high p-value, hence, it is an insignificant variable."
   ]
  },
  {
   "cell_type": "markdown",
   "metadata": {},
   "source": [
    "#### Model 3 - "
   ]
  },
  {
   "cell_type": "markdown",
   "metadata": {},
   "source": [
    "Dropping 'mnth_Jan' column from the previous model for the third model"
   ]
  },
  {
   "cell_type": "code",
   "execution_count": 68,
   "metadata": {},
   "outputs": [],
   "source": [
    "cols = ['yr', 'holiday', 'workingday', 'temp', 'hum', 'windspeed',\n",
    "       'season_Spring', 'season_Winter', 'mnth_Jul', 'mnth_Sept',\n",
    "       'weekday_Sat', 'weathersit_LightRain_LightSnow_Thunderstorm',\n",
    "       'weathersit_Mist_Cloudy']"
   ]
  },
  {
   "cell_type": "code",
   "execution_count": 69,
   "metadata": {},
   "outputs": [
    {
     "name": "stdout",
     "output_type": "stream",
     "text": [
      "                            OLS Regression Results                            \n",
      "==============================================================================\n",
      "Dep. Variable:                    cnt   R-squared:                       0.843\n",
      "Model:                            OLS   Adj. R-squared:                  0.839\n",
      "Method:                 Least Squares   F-statistic:                     205.3\n",
      "Date:                Mon, 07 Jun 2021   Prob (F-statistic):          3.29e-190\n",
      "Time:                        15:56:59   Log-Likelihood:                -4123.5\n",
      "No. Observations:                 511   AIC:                             8275.\n",
      "Df Residuals:                     497   BIC:                             8334.\n",
      "Df Model:                          13                                         \n",
      "Covariance Type:            nonrobust                                         \n",
      "===============================================================================================================\n",
      "                                                  coef    std err          t      P>|t|      [0.025      0.975]\n",
      "---------------------------------------------------------------------------------------------------------------\n",
      "const                                        2588.5563    284.851      9.087      0.000    2028.896    3148.217\n",
      "yr                                           2010.4989     70.541     28.501      0.000    1871.903    2149.095\n",
      "holiday                                      -523.5541    237.448     -2.205      0.028    -990.080     -57.028\n",
      "workingday                                    374.9037    101.717      3.686      0.000     175.056     574.751\n",
      "temp                                         4158.1940    266.158     15.623      0.000    3635.260    4681.128\n",
      "hum                                         -1295.9302    327.467     -3.957      0.000   -1939.321    -652.540\n",
      "windspeed                                   -1466.2605    221.857     -6.609      0.000   -1902.154   -1030.367\n",
      "season_Spring                                -936.6756    129.104     -7.255      0.000   -1190.333    -683.018\n",
      "season_Winter                                 496.5292    106.967      4.642      0.000     286.365     706.693\n",
      "mnth_Jul                                     -681.4999    148.751     -4.581      0.000    -973.759    -389.241\n",
      "mnth_Sept                                     512.0638    134.423      3.809      0.000     247.957     776.170\n",
      "weekday_Sat                                   456.3763    128.047      3.564      0.000     204.797     707.956\n",
      "weathersit_LightRain_LightSnow_Thunderstorm -2176.3016    229.362     -9.489      0.000   -2626.940   -1725.664\n",
      "weathersit_Mist_Cloudy                       -504.9491     91.391     -5.525      0.000    -684.509    -325.389\n",
      "==============================================================================\n",
      "Omnibus:                       60.968   Durbin-Watson:                   2.025\n",
      "Prob(Omnibus):                  0.000   Jarque-Bera (JB):              156.347\n",
      "Skew:                          -0.605   Prob(JB):                     1.12e-34\n",
      "Kurtosis:                       5.424   Cond. No.                         20.8\n",
      "==============================================================================\n",
      "\n",
      "Warnings:\n",
      "[1] Standard Errors assume that the covariance matrix of the errors is correctly specified.\n"
     ]
    }
   ],
   "source": [
    "X_train_sm3 = sm.add_constant(X_train[cols])\n",
    "lm = sm.OLS(y_train, X_train_sm3).fit()\n",
    "print(lm.summary())"
   ]
  },
  {
   "cell_type": "code",
   "execution_count": 70,
   "metadata": {},
   "outputs": [
    {
     "name": "stdout",
     "output_type": "stream",
     "text": [
      "                                       Features    VIF\n",
      "4                                           hum  23.36\n",
      "3                                          temp  16.02\n",
      "2                                    workingday   5.19\n",
      "5                                     windspeed   4.16\n",
      "6                                 season_Spring   2.63\n",
      "12                       weathersit_Mist_Cloudy   2.24\n",
      "7                                 season_Winter   2.11\n",
      "0                                            yr   2.07\n",
      "10                                  weekday_Sat   1.94\n",
      "8                                      mnth_Jul   1.40\n",
      "11  weathersit_LightRain_LightSnow_Thunderstorm   1.21\n",
      "9                                     mnth_Sept   1.20\n",
      "1                                       holiday   1.17\n"
     ]
    }
   ],
   "source": [
    "vif = pd.DataFrame()\n",
    "vif['Features'] = X_train[cols].columns\n",
    "vif['VIF'] = [variance_inflation_factor(X_train[cols].values, i) for i in range(X_train[cols].shape[1])]\n",
    "vif['VIF'] = round(vif['VIF'],2)\n",
    "print(vif.sort_values(by='VIF',ascending=False))"
   ]
  },
  {
   "cell_type": "markdown",
   "metadata": {},
   "source": [
    "Dropping the variable days_old as it has the highest VIF among the remaining variables."
   ]
  },
  {
   "cell_type": "markdown",
   "metadata": {},
   "source": [
    "#### Model 4 -  "
   ]
  },
  {
   "cell_type": "markdown",
   "metadata": {},
   "source": [
    "Dropping 'hum' column from the previous model for the fourth model"
   ]
  },
  {
   "cell_type": "code",
   "execution_count": 71,
   "metadata": {},
   "outputs": [],
   "source": [
    "cols = ['yr', 'holiday', 'workingday', 'temp', 'windspeed',\n",
    "       'season_Spring', 'season_Winter', 'mnth_Jul', 'mnth_Sept',\n",
    "       'weekday_Sat', 'weathersit_LightRain_LightSnow_Thunderstorm',\n",
    "       'weathersit_Mist_Cloudy']"
   ]
  },
  {
   "cell_type": "code",
   "execution_count": 72,
   "metadata": {},
   "outputs": [
    {
     "name": "stdout",
     "output_type": "stream",
     "text": [
      "                            OLS Regression Results                            \n",
      "==============================================================================\n",
      "Dep. Variable:                    cnt   R-squared:                       0.838\n",
      "Model:                            OLS   Adj. R-squared:                  0.834\n",
      "Method:                 Least Squares   F-statistic:                     214.8\n",
      "Date:                Mon, 07 Jun 2021   Prob (F-statistic):          4.75e-188\n",
      "Time:                        15:57:01   Log-Likelihood:                -4131.5\n",
      "No. Observations:                 511   AIC:                             8289.\n",
      "Df Residuals:                     498   BIC:                             8344.\n",
      "Df Model:                          12                                         \n",
      "Covariance Type:            nonrobust                                         \n",
      "===============================================================================================================\n",
      "                                                  coef    std err          t      P>|t|      [0.025      0.975]\n",
      "---------------------------------------------------------------------------------------------------------------\n",
      "const                                        1866.8831    222.025      8.408      0.000    1430.662    2303.104\n",
      "yr                                           2041.8711     71.119     28.711      0.000    1902.142    2181.601\n",
      "holiday                                      -503.6330    240.864     -2.091      0.037    -976.868     -30.398\n",
      "workingday                                    400.4841    102.994      3.888      0.000     198.127     602.841\n",
      "temp                                         3910.5585    262.478     14.899      0.000    3394.857    4426.260\n",
      "windspeed                                   -1219.1446    215.999     -5.644      0.000   -1643.527    -794.762\n",
      "season_Spring                                -969.4111    130.722     -7.416      0.000   -1226.245    -712.577\n",
      "season_Winter                                 417.9766    106.646      3.919      0.000     208.446     627.508\n",
      "mnth_Jul                                     -619.5871    150.088     -4.128      0.000    -914.471    -324.703\n",
      "mnth_Sept                                     483.7589    136.194      3.552      0.000     216.174     751.344\n",
      "weekday_Sat                                   496.2941    129.514      3.832      0.000     241.832     750.756\n",
      "weathersit_LightRain_LightSnow_Thunderstorm -2533.3436    213.954    -11.841      0.000   -2953.707   -2112.980\n",
      "weathersit_Mist_Cloudy                       -713.3881     75.778     -9.414      0.000    -862.273    -564.503\n",
      "==============================================================================\n",
      "Omnibus:                       64.339   Durbin-Watson:                   2.018\n",
      "Prob(Omnibus):                  0.000   Jarque-Bera (JB):              162.838\n",
      "Skew:                          -0.643   Prob(JB):                     4.37e-36\n",
      "Kurtosis:                       5.449   Cond. No.                         15.9\n",
      "==============================================================================\n",
      "\n",
      "Warnings:\n",
      "[1] Standard Errors assume that the covariance matrix of the errors is correctly specified.\n"
     ]
    }
   ],
   "source": [
    "X_train_sm4 = sm.add_constant(X_train[cols])\n",
    "lm = sm.OLS(y_train, X_train_sm4).fit()\n",
    "print(lm.summary())"
   ]
  },
  {
   "cell_type": "code",
   "execution_count": 73,
   "metadata": {},
   "outputs": [
    {
     "name": "stdout",
     "output_type": "stream",
     "text": [
      "                                       Features   VIF\n",
      "3                                          temp  6.83\n",
      "2                                    workingday  4.98\n",
      "4                                     windspeed  4.15\n",
      "0                                            yr  2.07\n",
      "9                                   weekday_Sat  1.91\n",
      "5                                 season_Spring  1.88\n",
      "11                       weathersit_Mist_Cloudy  1.54\n",
      "6                                 season_Winter  1.48\n",
      "7                                      mnth_Jul  1.37\n",
      "8                                     mnth_Sept  1.20\n",
      "1                                       holiday  1.16\n",
      "10  weathersit_LightRain_LightSnow_Thunderstorm  1.08\n"
     ]
    }
   ],
   "source": [
    "vif = pd.DataFrame()\n",
    "vif['Features'] = X_train[cols].columns\n",
    "vif['VIF'] = [variance_inflation_factor(X_train[cols].values, i) for i in range(X_train[cols].shape[1])]\n",
    "vif['VIF'] = round(vif['VIF'],2)\n",
    "print(vif.sort_values(by='VIF',ascending=False))"
   ]
  },
  {
   "cell_type": "markdown",
   "metadata": {},
   "source": [
    "Dropping the variable holiday as it has a comparatively high p-value, hence, it is an insignificant variable."
   ]
  },
  {
   "cell_type": "markdown",
   "metadata": {},
   "source": [
    "#### Model 5 - "
   ]
  },
  {
   "cell_type": "markdown",
   "metadata": {},
   "source": [
    "Dropping 'holiday' column from the previous model for the fifth model"
   ]
  },
  {
   "cell_type": "code",
   "execution_count": 74,
   "metadata": {},
   "outputs": [],
   "source": [
    "cols = ['yr', 'workingday', 'temp', 'windspeed',\n",
    "       'season_Spring', 'season_Winter', 'mnth_Jul', 'mnth_Sept',\n",
    "       'weekday_Sat', 'weathersit_LightRain_LightSnow_Thunderstorm',\n",
    "       'weathersit_Mist_Cloudy']"
   ]
  },
  {
   "cell_type": "code",
   "execution_count": 75,
   "metadata": {},
   "outputs": [
    {
     "name": "stdout",
     "output_type": "stream",
     "text": [
      "                            OLS Regression Results                            \n",
      "==============================================================================\n",
      "Dep. Variable:                    cnt   R-squared:                       0.837\n",
      "Model:                            OLS   Adj. R-squared:                  0.833\n",
      "Method:                 Least Squares   F-statistic:                     232.3\n",
      "Date:                Mon, 07 Jun 2021   Prob (F-statistic):          2.66e-188\n",
      "Time:                        15:57:07   Log-Likelihood:                -4133.7\n",
      "No. Observations:                 511   AIC:                             8291.\n",
      "Df Residuals:                     499   BIC:                             8342.\n",
      "Df Model:                          11                                         \n",
      "Covariance Type:            nonrobust                                         \n",
      "===============================================================================================================\n",
      "                                                  coef    std err          t      P>|t|      [0.025      0.975]\n",
      "---------------------------------------------------------------------------------------------------------------\n",
      "const                                        1796.9992    220.236      8.159      0.000    1364.296    2229.702\n",
      "yr                                           2043.4801     71.354     28.638      0.000    1903.288    2183.672\n",
      "workingday                                    475.1374     96.934      4.902      0.000     284.688     665.587\n",
      "temp                                         3911.5105    263.363     14.852      0.000    3394.073    4428.948\n",
      "windspeed                                   -1226.2396    216.701     -5.659      0.000   -1651.999    -800.480\n",
      "season_Spring                                -980.9498    131.046     -7.486      0.000   -1238.419    -723.481\n",
      "season_Winter                                 408.4091    106.907      3.820      0.000     198.366     618.452\n",
      "mnth_Jul                                     -611.8204    150.548     -4.064      0.000    -907.607    -316.034\n",
      "mnth_Sept                                     465.2244    136.363      3.412      0.001     197.307     733.142\n",
      "weekday_Sat                                   571.7675    124.802      4.581      0.000     326.565     816.970\n",
      "weathersit_LightRain_LightSnow_Thunderstorm -2522.8321    214.616    -11.755      0.000   -2944.495   -2101.170\n",
      "weathersit_Mist_Cloudy                       -708.8444     76.003     -9.327      0.000    -858.169    -559.520\n",
      "==============================================================================\n",
      "Omnibus:                       69.858   Durbin-Watson:                   2.004\n",
      "Prob(Omnibus):                  0.000   Jarque-Bera (JB):              184.688\n",
      "Skew:                          -0.682   Prob(JB):                     7.86e-41\n",
      "Kurtosis:                       5.611   Cond. No.                         15.9\n",
      "==============================================================================\n",
      "\n",
      "Warnings:\n",
      "[1] Standard Errors assume that the covariance matrix of the errors is correctly specified.\n"
     ]
    }
   ],
   "source": [
    "X_train_sm5 = sm.add_constant(X_train[cols])\n",
    "lm = sm.OLS(y_train, X_train_sm5).fit()\n",
    "print(lm.summary())"
   ]
  },
  {
   "cell_type": "code",
   "execution_count": 76,
   "metadata": {
    "scrolled": true
   },
   "outputs": [
    {
     "name": "stdout",
     "output_type": "stream",
     "text": [
      "                                       Features   VIF\n",
      "2                                          temp  6.56\n",
      "1                                    workingday  4.48\n",
      "3                                     windspeed  4.12\n",
      "0                                            yr  2.07\n",
      "4                                 season_Spring  1.81\n",
      "8                                   weekday_Sat  1.79\n",
      "10                       weathersit_Mist_Cloudy  1.54\n",
      "5                                 season_Winter  1.44\n",
      "6                                      mnth_Jul  1.36\n",
      "7                                     mnth_Sept  1.20\n",
      "9   weathersit_LightRain_LightSnow_Thunderstorm  1.08\n"
     ]
    }
   ],
   "source": [
    "vif = pd.DataFrame()\n",
    "vif['Features'] = X_train[cols].columns\n",
    "vif['VIF'] = [variance_inflation_factor(X_train[cols].values, i) for i in range(X_train[cols].shape[1])]\n",
    "vif['VIF'] = round(vif['VIF'],2)\n",
    "print(vif.sort_values(by='VIF',ascending=False))"
   ]
  },
  {
   "cell_type": "markdown",
   "metadata": {},
   "source": [
    "Dropping the variable temp as it has the highest VIF among the remaining variables."
   ]
  },
  {
   "cell_type": "markdown",
   "metadata": {},
   "source": [
    "#### Model 6 - "
   ]
  },
  {
   "cell_type": "markdown",
   "metadata": {},
   "source": [
    "Dropping 'temp' column from the previous model for the sixth model"
   ]
  },
  {
   "cell_type": "code",
   "execution_count": 77,
   "metadata": {},
   "outputs": [],
   "source": [
    "cols = ['yr', 'workingday', 'windspeed',\n",
    "       'season_Spring', 'season_Winter', 'mnth_Jul', 'mnth_Sept',\n",
    "       'weekday_Sat', 'weathersit_LightRain_LightSnow_Thunderstorm',\n",
    "       'weathersit_Mist_Cloudy']"
   ]
  },
  {
   "cell_type": "code",
   "execution_count": 78,
   "metadata": {},
   "outputs": [
    {
     "name": "stdout",
     "output_type": "stream",
     "text": [
      "                            OLS Regression Results                            \n",
      "==============================================================================\n",
      "Dep. Variable:                    cnt   R-squared:                       0.764\n",
      "Model:                            OLS   Adj. R-squared:                  0.760\n",
      "Method:                 Least Squares   F-statistic:                     162.2\n",
      "Date:                Mon, 07 Jun 2021   Prob (F-statistic):          6.29e-150\n",
      "Time:                        15:57:09   Log-Likelihood:                -4227.2\n",
      "No. Observations:                 511   AIC:                             8476.\n",
      "Df Residuals:                     500   BIC:                             8523.\n",
      "Df Model:                          10                                         \n",
      "Covariance Type:            nonrobust                                         \n",
      "===============================================================================================================\n",
      "                                                  coef    std err          t      P>|t|      [0.025      0.975]\n",
      "---------------------------------------------------------------------------------------------------------------\n",
      "const                                        4440.2192    155.635     28.530      0.000    4134.440    4745.999\n",
      "yr                                           2160.5515     85.077     25.395      0.000    1993.400    2327.703\n",
      "workingday                                    498.0642    116.273      4.284      0.000     269.621     726.507\n",
      "windspeed                                   -1595.9538    258.246     -6.180      0.000   -2103.335   -1088.573\n",
      "season_Spring                               -2359.3179    110.992    -21.257      0.000   -2577.387   -2141.249\n",
      "season_Winter                                -433.7472    108.725     -3.989      0.000    -647.362    -220.133\n",
      "mnth_Jul                                      157.0828    169.591      0.926      0.355    -176.116     490.282\n",
      "mnth_Sept                                     791.6231    161.451      4.903      0.000     474.418    1108.828\n",
      "weekday_Sat                                   559.6789    149.717      3.738      0.000     265.528     853.830\n",
      "weathersit_LightRain_LightSnow_Thunderstorm -2612.8910    257.363    -10.153      0.000   -3118.536   -2107.246\n",
      "weathersit_Mist_Cloudy                       -808.3735     90.822     -8.901      0.000    -986.813    -629.934\n",
      "==============================================================================\n",
      "Omnibus:                       34.536   Durbin-Watson:                   2.037\n",
      "Prob(Omnibus):                  0.000   Jarque-Bera (JB):               69.036\n",
      "Skew:                          -0.406   Prob(JB):                     1.02e-15\n",
      "Kurtosis:                       4.607   Cond. No.                         10.0\n",
      "==============================================================================\n",
      "\n",
      "Warnings:\n",
      "[1] Standard Errors assume that the covariance matrix of the errors is correctly specified.\n"
     ]
    }
   ],
   "source": [
    "X_train_sm6 = sm.add_constant(X_train[cols])\n",
    "lm = sm.OLS(y_train, X_train_sm6).fit()\n",
    "print(lm.summary())"
   ]
  },
  {
   "cell_type": "code",
   "execution_count": 79,
   "metadata": {},
   "outputs": [
    {
     "name": "stdout",
     "output_type": "stream",
     "text": [
      "                                      Features   VIF\n",
      "2                                    windspeed  3.44\n",
      "1                                   workingday  3.18\n",
      "0                                           yr  1.89\n",
      "3                                season_Spring  1.56\n",
      "7                                  weekday_Sat  1.54\n",
      "9                       weathersit_Mist_Cloudy  1.53\n",
      "4                                season_Winter  1.43\n",
      "5                                     mnth_Jul  1.14\n",
      "6                                    mnth_Sept  1.12\n",
      "8  weathersit_LightRain_LightSnow_Thunderstorm  1.08\n"
     ]
    }
   ],
   "source": [
    "vif = pd.DataFrame()\n",
    "vif['Features'] = X_train[cols].columns\n",
    "vif['VIF'] = [variance_inflation_factor(X_train[cols].values, i) for i in range(X_train[cols].shape[1])]\n",
    "vif['VIF'] = round(vif['VIF'],2)\n",
    "print(vif.sort_values(by='VIF',ascending=False))"
   ]
  },
  {
   "cell_type": "markdown",
   "metadata": {},
   "source": [
    "Dropping the variable mnth_Jul as it has a comparatively high p-value, hence, it is an insignificant variable."
   ]
  },
  {
   "cell_type": "markdown",
   "metadata": {},
   "source": [
    "#### Model 7 - "
   ]
  },
  {
   "cell_type": "markdown",
   "metadata": {},
   "source": [
    "Dropping 'mnth_Jul' column from the previous model for the seventh model"
   ]
  },
  {
   "cell_type": "code",
   "execution_count": 80,
   "metadata": {},
   "outputs": [],
   "source": [
    "cols = ['yr', 'workingday', 'windspeed',\n",
    "       'season_Spring', 'season_Winter', 'mnth_Sept',\n",
    "       'weekday_Sat', 'weathersit_LightRain_LightSnow_Thunderstorm',\n",
    "       'weathersit_Mist_Cloudy']"
   ]
  },
  {
   "cell_type": "code",
   "execution_count": 81,
   "metadata": {},
   "outputs": [
    {
     "name": "stdout",
     "output_type": "stream",
     "text": [
      "                            OLS Regression Results                            \n",
      "==============================================================================\n",
      "Dep. Variable:                    cnt   R-squared:                       0.764\n",
      "Model:                            OLS   Adj. R-squared:                  0.760\n",
      "Method:                 Least Squares   F-statistic:                     180.2\n",
      "Date:                Mon, 07 Jun 2021   Prob (F-statistic):          6.98e-151\n",
      "Time:                        15:57:11   Log-Likelihood:                -4227.7\n",
      "No. Observations:                 511   AIC:                             8475.\n",
      "Df Residuals:                     501   BIC:                             8518.\n",
      "Df Model:                           9                                         \n",
      "Covariance Type:            nonrobust                                         \n",
      "===============================================================================================================\n",
      "                                                  coef    std err          t      P>|t|      [0.025      0.975]\n",
      "---------------------------------------------------------------------------------------------------------------\n",
      "const                                        4477.7915    150.235     29.805      0.000    4182.624    4772.959\n",
      "yr                                           2160.7150     85.064     25.401      0.000    1993.588    2327.842\n",
      "workingday                                    495.1804    116.214      4.261      0.000     266.853     723.508\n",
      "windspeed                                   -1616.9524    257.212     -6.286      0.000   -2122.300   -1111.605\n",
      "season_Spring                               -2384.0477    107.718    -22.132      0.000   -2595.683   -2172.413\n",
      "season_Winter                                -458.7976    105.293     -4.357      0.000    -665.668    -251.928\n",
      "mnth_Sept                                     770.3693    159.789      4.821      0.000     456.430    1084.308\n",
      "weekday_Sat                                   558.9461    149.693      3.734      0.000     264.842     853.050\n",
      "weathersit_LightRain_LightSnow_Thunderstorm -2609.7791    257.304    -10.143      0.000   -3115.307   -2104.251\n",
      "weathersit_Mist_Cloudy                       -817.1501     90.314     -9.048      0.000    -994.590    -639.710\n",
      "==============================================================================\n",
      "Omnibus:                       34.931   Durbin-Watson:                   2.030\n",
      "Prob(Omnibus):                  0.000   Jarque-Bera (JB):               69.852\n",
      "Skew:                          -0.410   Prob(JB):                     6.79e-16\n",
      "Kurtosis:                       4.615   Cond. No.                         9.88\n",
      "==============================================================================\n",
      "\n",
      "Warnings:\n",
      "[1] Standard Errors assume that the covariance matrix of the errors is correctly specified.\n"
     ]
    }
   ],
   "source": [
    "X_train_sm7 = sm.add_constant(X_train[cols])\n",
    "lm = sm.OLS(y_train, X_train_sm7).fit()\n",
    "print(lm.summary())"
   ]
  },
  {
   "cell_type": "code",
   "execution_count": 82,
   "metadata": {
    "scrolled": true
   },
   "outputs": [
    {
     "name": "stdout",
     "output_type": "stream",
     "text": [
      "                                      Features   VIF\n",
      "2                                    windspeed  3.43\n",
      "1                                   workingday  3.08\n",
      "0                                           yr  1.87\n",
      "6                                  weekday_Sat  1.52\n",
      "8                       weathersit_Mist_Cloudy  1.52\n",
      "3                                season_Spring  1.50\n",
      "4                                season_Winter  1.39\n",
      "5                                    mnth_Sept  1.11\n",
      "7  weathersit_LightRain_LightSnow_Thunderstorm  1.08\n"
     ]
    }
   ],
   "source": [
    "vif = pd.DataFrame()\n",
    "vif['Features'] = X_train[cols].columns\n",
    "vif['VIF'] = [variance_inflation_factor(X_train[cols].values, i) for i in range(X_train[cols].shape[1])]\n",
    "vif['VIF'] = round(vif['VIF'],2)\n",
    "print(vif.sort_values(by='VIF',ascending=False))"
   ]
  },
  {
   "cell_type": "markdown",
   "metadata": {},
   "source": [
    "Dropping the variable windspeed as it has the highest VIF among the remaining variables."
   ]
  },
  {
   "cell_type": "markdown",
   "metadata": {},
   "source": [
    "#### Model 8 -  "
   ]
  },
  {
   "cell_type": "markdown",
   "metadata": {},
   "source": [
    "Dropping 'windspeed' column from the previous model for the eighth model"
   ]
  },
  {
   "cell_type": "code",
   "execution_count": 83,
   "metadata": {},
   "outputs": [],
   "source": [
    "cols = ['yr', 'workingday', \n",
    "       'season_Spring', 'season_Winter', 'mnth_Sept',\n",
    "       'weekday_Sat', 'weathersit_LightRain_LightSnow_Thunderstorm',\n",
    "       'weathersit_Mist_Cloudy']"
   ]
  },
  {
   "cell_type": "code",
   "execution_count": 84,
   "metadata": {},
   "outputs": [
    {
     "name": "stdout",
     "output_type": "stream",
     "text": [
      "                            OLS Regression Results                            \n",
      "==============================================================================\n",
      "Dep. Variable:                    cnt   R-squared:                       0.745\n",
      "Model:                            OLS   Adj. R-squared:                  0.741\n",
      "Method:                 Least Squares   F-statistic:                     183.7\n",
      "Date:                Mon, 07 Jun 2021   Prob (F-statistic):          8.32e-144\n",
      "Time:                        15:57:13   Log-Likelihood:                -4247.1\n",
      "No. Observations:                 511   AIC:                             8512.\n",
      "Df Residuals:                     502   BIC:                             8550.\n",
      "Df Model:                           8                                         \n",
      "Covariance Type:            nonrobust                                         \n",
      "===============================================================================================================\n",
      "                                                  coef    std err          t      P>|t|      [0.025      0.975]\n",
      "---------------------------------------------------------------------------------------------------------------\n",
      "const                                        3965.7436    130.991     30.275      0.000    3708.385    4223.103\n",
      "yr                                           2154.3621     88.261     24.409      0.000    1980.955    2327.769\n",
      "workingday                                    507.6198    120.573      4.210      0.000     270.729     744.510\n",
      "season_Spring                               -2478.9650    110.671    -22.399      0.000   -2696.400   -2261.530\n",
      "season_Winter                                -422.3484    109.092     -3.871      0.000    -636.682    -208.015\n",
      "mnth_Sept                                     871.7632    164.959      5.285      0.000     547.667    1195.859\n",
      "weekday_Sat                                   535.3271    155.281      3.447      0.001     230.246     840.408\n",
      "weathersit_LightRain_LightSnow_Thunderstorm -2775.9049    265.582    -10.452      0.000   -3297.693   -2254.117\n",
      "weathersit_Mist_Cloudy                       -810.0809     93.707     -8.645      0.000    -994.188    -625.974\n",
      "==============================================================================\n",
      "Omnibus:                       41.503   Durbin-Watson:                   2.068\n",
      "Prob(Omnibus):                  0.000   Jarque-Bera (JB):               96.049\n",
      "Skew:                          -0.436   Prob(JB):                     1.39e-21\n",
      "Kurtosis:                       4.937   Cond. No.                         8.78\n",
      "==============================================================================\n",
      "\n",
      "Warnings:\n",
      "[1] Standard Errors assume that the covariance matrix of the errors is correctly specified.\n"
     ]
    }
   ],
   "source": [
    "X_train_sm8 = sm.add_constant(X_train[cols])\n",
    "lm = sm.OLS(y_train, X_train_sm8).fit()\n",
    "print(lm.summary())"
   ]
  },
  {
   "cell_type": "code",
   "execution_count": 85,
   "metadata": {
    "scrolled": true
   },
   "outputs": [
    {
     "name": "stdout",
     "output_type": "stream",
     "text": [
      "                                      Features   VIF\n",
      "1                                   workingday  2.32\n",
      "0                                           yr  1.79\n",
      "7                       weathersit_Mist_Cloudy  1.51\n",
      "2                                season_Spring  1.37\n",
      "3                                season_Winter  1.36\n",
      "5                                  weekday_Sat  1.31\n",
      "4                                    mnth_Sept  1.11\n",
      "6  weathersit_LightRain_LightSnow_Thunderstorm  1.07\n"
     ]
    }
   ],
   "source": [
    "vif = pd.DataFrame()\n",
    "vif['Features'] = X_train[cols].columns\n",
    "vif['VIF'] = [variance_inflation_factor(X_train[cols].values, i) for i in range(X_train[cols].shape[1])]\n",
    "vif['VIF'] = round(vif['VIF'],2)\n",
    "print(vif.sort_values(by='VIF',ascending=False))"
   ]
  },
  {
   "cell_type": "markdown",
   "metadata": {},
   "source": [
    "Dropping the variable workingday as it has the highest VIF among the remaining variables."
   ]
  },
  {
   "cell_type": "markdown",
   "metadata": {},
   "source": [
    "#### Model 9 - "
   ]
  },
  {
   "cell_type": "markdown",
   "metadata": {},
   "source": [
    "Dropping 'workingday' column from the previous model for the ninth model"
   ]
  },
  {
   "cell_type": "code",
   "execution_count": 86,
   "metadata": {},
   "outputs": [],
   "source": [
    "cols = ['yr','season_Spring', 'season_Winter', 'mnth_Sept',\n",
    "       'weekday_Sat', 'weathersit_LightRain_LightSnow_Thunderstorm',\n",
    "       'weathersit_Mist_Cloudy']"
   ]
  },
  {
   "cell_type": "code",
   "execution_count": 87,
   "metadata": {},
   "outputs": [
    {
     "name": "stdout",
     "output_type": "stream",
     "text": [
      "                            OLS Regression Results                            \n",
      "==============================================================================\n",
      "Dep. Variable:                    cnt   R-squared:                       0.736\n",
      "Model:                            OLS   Adj. R-squared:                  0.733\n",
      "Method:                 Least Squares   F-statistic:                     200.8\n",
      "Date:                Mon, 07 Jun 2021   Prob (F-statistic):          3.31e-141\n",
      "Time:                        15:57:14   Log-Likelihood:                -4255.9\n",
      "No. Observations:                 511   AIC:                             8528.\n",
      "Df Residuals:                     503   BIC:                             8562.\n",
      "Df Model:                           7                                         \n",
      "Covariance Type:            nonrobust                                         \n",
      "===============================================================================================================\n",
      "                                                  coef    std err          t      P>|t|      [0.025      0.975]\n",
      "---------------------------------------------------------------------------------------------------------------\n",
      "const                                        4372.7710     89.841     48.672      0.000    4196.260    4549.282\n",
      "yr                                           2160.0929     89.706     24.080      0.000    1983.848    2336.338\n",
      "season_Spring                               -2503.5462    112.339    -22.286      0.000   -2724.258   -2282.835\n",
      "season_Winter                                -459.8577    110.521     -4.161      0.000    -676.996    -242.719\n",
      "mnth_Sept                                     873.5333    167.679      5.210      0.000     544.096    1202.970\n",
      "weekday_Sat                                   129.4637    123.739      1.046      0.296    -113.646     372.573\n",
      "weathersit_LightRain_LightSnow_Thunderstorm -2708.3688    269.468    -10.051      0.000   -3237.790   -2178.948\n",
      "weathersit_Mist_Cloudy                       -781.9854     95.011     -8.231      0.000    -968.652    -595.319\n",
      "==============================================================================\n",
      "Omnibus:                       42.586   Durbin-Watson:                   2.044\n",
      "Prob(Omnibus):                  0.000   Jarque-Bera (JB):               90.989\n",
      "Skew:                          -0.475   Prob(JB):                     1.75e-20\n",
      "Kurtosis:                       4.836   Cond. No.                         7.68\n",
      "==============================================================================\n",
      "\n",
      "Warnings:\n",
      "[1] Standard Errors assume that the covariance matrix of the errors is correctly specified.\n"
     ]
    }
   ],
   "source": [
    "X_train_sm9 = sm.add_constant(X_train[cols])\n",
    "lm = sm.OLS(y_train, X_train_sm9).fit()\n",
    "print(lm.summary())"
   ]
  },
  {
   "cell_type": "code",
   "execution_count": 88,
   "metadata": {
    "scrolled": true
   },
   "outputs": [
    {
     "name": "stdout",
     "output_type": "stream",
     "text": [
      "                                      Features   VIF\n",
      "0                                           yr  1.43\n",
      "6                       weathersit_Mist_Cloudy  1.36\n",
      "2                                season_Winter  1.27\n",
      "1                                season_Spring  1.24\n",
      "4                                  weekday_Sat  1.13\n",
      "3                                    mnth_Sept  1.08\n",
      "5  weathersit_LightRain_LightSnow_Thunderstorm  1.05\n"
     ]
    }
   ],
   "source": [
    "vif = pd.DataFrame()\n",
    "vif['Features'] = X_train[cols].columns\n",
    "vif['VIF'] = [variance_inflation_factor(X_train[cols].values, i) for i in range(X_train[cols].shape[1])]\n",
    "vif['VIF'] = round(vif['VIF'],2)\n",
    "print(vif.sort_values(by='VIF',ascending=False))"
   ]
  },
  {
   "cell_type": "markdown",
   "metadata": {},
   "source": [
    "#### Model 10 - "
   ]
  },
  {
   "cell_type": "markdown",
   "metadata": {},
   "source": [
    "Adding the column 'temp' for the tenth model"
   ]
  },
  {
   "cell_type": "code",
   "execution_count": 89,
   "metadata": {},
   "outputs": [],
   "source": [
    "cols = ['yr','season_Spring', 'season_Winter', 'mnth_Sept',\n",
    "       'weekday_Sat', 'weathersit_LightRain_LightSnow_Thunderstorm',\n",
    "       'weathersit_Mist_Cloudy', 'temp']"
   ]
  },
  {
   "cell_type": "code",
   "execution_count": 90,
   "metadata": {
    "scrolled": true
   },
   "outputs": [
    {
     "name": "stdout",
     "output_type": "stream",
     "text": [
      "                            OLS Regression Results                            \n",
      "==============================================================================\n",
      "Dep. Variable:                    cnt   R-squared:                       0.813\n",
      "Model:                            OLS   Adj. R-squared:                  0.810\n",
      "Method:                 Least Squares   F-statistic:                     272.4\n",
      "Date:                Mon, 07 Jun 2021   Prob (F-statistic):          3.32e-177\n",
      "Time:                        15:57:14   Log-Likelihood:                -4168.5\n",
      "No. Observations:                 511   AIC:                             8355.\n",
      "Df Residuals:                     502   BIC:                             8393.\n",
      "Df Model:                           8                                         \n",
      "Covariance Type:            nonrobust                                         \n",
      "===============================================================================================================\n",
      "                                                  coef    std err          t      P>|t|      [0.025      0.975]\n",
      "---------------------------------------------------------------------------------------------------------------\n",
      "const                                        1802.4963    194.947      9.246      0.000    1419.484    2185.509\n",
      "yr                                           2049.0029     76.074     26.934      0.000    1899.540    2198.466\n",
      "season_Spring                               -1042.4187    139.307     -7.483      0.000   -1316.116    -768.721\n",
      "season_Winter                                 453.5340    112.991      4.014      0.000     231.541     675.527\n",
      "mnth_Sept                                     632.4893    142.455      4.440      0.000     352.609     912.370\n",
      "weekday_Sat                                   160.5736    104.410      1.538      0.125     -44.561     365.708\n",
      "weathersit_LightRain_LightSnow_Thunderstorm -2591.9620    227.471    -11.395      0.000   -3038.874   -2145.050\n",
      "weathersit_Mist_Cloudy                       -648.3448     80.694     -8.035      0.000    -806.884    -489.805\n",
      "temp                                         3740.9188    261.416     14.310      0.000    3227.315    4254.522\n",
      "==============================================================================\n",
      "Omnibus:                       80.246   Durbin-Watson:                   2.013\n",
      "Prob(Omnibus):                  0.000   Jarque-Bera (JB):              200.791\n",
      "Skew:                          -0.799   Prob(JB):                     2.51e-44\n",
      "Kurtosis:                       5.623   Cond. No.                         12.6\n",
      "==============================================================================\n",
      "\n",
      "Warnings:\n",
      "[1] Standard Errors assume that the covariance matrix of the errors is correctly specified.\n"
     ]
    }
   ],
   "source": [
    "X_train_sm10 = sm.add_constant(X_train[cols])\n",
    "lm = sm.OLS(y_train, X_train_sm10).fit()\n",
    "print(lm.summary())"
   ]
  },
  {
   "cell_type": "code",
   "execution_count": 91,
   "metadata": {},
   "outputs": [
    {
     "name": "stdout",
     "output_type": "stream",
     "text": [
      "                                      Features   VIF\n",
      "7                                         temp  2.47\n",
      "0                                           yr  2.04\n",
      "6                       weathersit_Mist_Cloudy  1.49\n",
      "2                                season_Winter  1.29\n",
      "1                                season_Spring  1.24\n",
      "4                                  weekday_Sat  1.17\n",
      "3                                    mnth_Sept  1.15\n",
      "5  weathersit_LightRain_LightSnow_Thunderstorm  1.06\n"
     ]
    }
   ],
   "source": [
    "vif = pd.DataFrame()\n",
    "vif['Features'] = X_train[cols].columns\n",
    "vif['VIF'] = [variance_inflation_factor(X_train[cols].values, i) for i in range(X_train[cols].shape[1])]\n",
    "vif['VIF'] = round(vif['VIF'],2)\n",
    "print(vif.sort_values(by='VIF',ascending=False))"
   ]
  },
  {
   "cell_type": "markdown",
   "metadata": {},
   "source": [
    "Adding the 'temp' variable increases the R-squared value and the VIF and p-value for the same is within the limits."
   ]
  },
  {
   "cell_type": "markdown",
   "metadata": {},
   "source": [
    "#### Model 11 -  "
   ]
  },
  {
   "cell_type": "markdown",
   "metadata": {},
   "source": [
    "Adding the column 'holiday' for the eleventh model"
   ]
  },
  {
   "cell_type": "code",
   "execution_count": 92,
   "metadata": {},
   "outputs": [],
   "source": [
    "cols = ['yr','season_Spring', 'season_Winter', 'mnth_Sept',\n",
    "       'weekday_Sat', 'weathersit_LightRain_LightSnow_Thunderstorm',\n",
    "       'weathersit_Mist_Cloudy', 'temp', 'holiday']"
   ]
  },
  {
   "cell_type": "code",
   "execution_count": 93,
   "metadata": {},
   "outputs": [
    {
     "name": "stdout",
     "output_type": "stream",
     "text": [
      "                            OLS Regression Results                            \n",
      "==============================================================================\n",
      "Dep. Variable:                    cnt   R-squared:                       0.817\n",
      "Model:                            OLS   Adj. R-squared:                  0.814\n",
      "Method:                 Least Squares   F-statistic:                     249.0\n",
      "Date:                Mon, 07 Jun 2021   Prob (F-statistic):          1.25e-178\n",
      "Time:                        15:57:16   Log-Likelihood:                -4162.3\n",
      "No. Observations:                 511   AIC:                             8345.\n",
      "Df Residuals:                     501   BIC:                             8387.\n",
      "Df Model:                           9                                         \n",
      "Covariance Type:            nonrobust                                         \n",
      "===============================================================================================================\n",
      "                                                  coef    std err          t      P>|t|      [0.025      0.975]\n",
      "---------------------------------------------------------------------------------------------------------------\n",
      "const                                        1829.0619    192.916      9.481      0.000    1450.039    2208.085\n",
      "yr                                           2045.3091     75.231     27.187      0.000    1897.502    2193.116\n",
      "season_Spring                               -1019.0505    137.910     -7.389      0.000   -1290.004    -748.097\n",
      "season_Winter                                 477.5113    111.935      4.266      0.000     257.591     697.431\n",
      "mnth_Sept                                     664.7653    141.160      4.709      0.000     387.427     942.104\n",
      "weekday_Sat                                   134.2132    103.514      1.297      0.195     -69.162     337.588\n",
      "weathersit_LightRain_LightSnow_Thunderstorm -2625.3925    225.128    -11.662      0.000   -3067.705   -2183.080\n",
      "weathersit_Mist_Cloudy                       -662.6272     79.895     -8.294      0.000    -819.598    -505.657\n",
      "temp                                         3726.9758    258.524     14.416      0.000    3219.051    4234.901\n",
      "holiday                                      -842.6361    239.173     -3.523      0.000   -1312.542    -372.731\n",
      "==============================================================================\n",
      "Omnibus:                       74.314   Durbin-Watson:                   2.047\n",
      "Prob(Omnibus):                  0.000   Jarque-Bera (JB):              186.029\n",
      "Skew:                          -0.742   Prob(JB):                     4.02e-41\n",
      "Kurtosis:                       5.556   Cond. No.                         12.6\n",
      "==============================================================================\n",
      "\n",
      "Warnings:\n",
      "[1] Standard Errors assume that the covariance matrix of the errors is correctly specified.\n"
     ]
    }
   ],
   "source": [
    "X_train_sm11 = sm.add_constant(X_train[cols])\n",
    "lm = sm.OLS(y_train, X_train_sm11).fit()\n",
    "print(lm.summary())"
   ]
  },
  {
   "cell_type": "code",
   "execution_count": 94,
   "metadata": {},
   "outputs": [
    {
     "name": "stdout",
     "output_type": "stream",
     "text": [
      "                                      Features   VIF\n",
      "7                                         temp  2.48\n",
      "0                                           yr  2.04\n",
      "6                       weathersit_Mist_Cloudy  1.49\n",
      "2                                season_Winter  1.31\n",
      "1                                season_Spring  1.26\n",
      "4                                  weekday_Sat  1.18\n",
      "3                                    mnth_Sept  1.15\n",
      "5  weathersit_LightRain_LightSnow_Thunderstorm  1.06\n",
      "8                                      holiday  1.05\n"
     ]
    }
   ],
   "source": [
    "vif = pd.DataFrame()\n",
    "vif['Features'] = X_train[cols].columns\n",
    "vif['VIF'] = [variance_inflation_factor(X_train[cols].values, i) for i in range(X_train[cols].shape[1])]\n",
    "vif['VIF'] = round(vif['VIF'],2)\n",
    "print(vif.sort_values(by='VIF',ascending=False))"
   ]
  },
  {
   "cell_type": "markdown",
   "metadata": {},
   "source": [
    "- Adding the 'holiday' variable increases the R-squared value and the VIF and p-value for the same is within the limits.\n",
    "- Also, we can see that the p-value for the variable 'weekday_Sat' is comparatively high, hence, dropping it."
   ]
  },
  {
   "cell_type": "markdown",
   "metadata": {},
   "source": [
    "#### Model 12 - "
   ]
  },
  {
   "cell_type": "markdown",
   "metadata": {},
   "source": [
    "Dropping the variable 'weekday_Sat' and instead using 'weekday_Sun'"
   ]
  },
  {
   "cell_type": "code",
   "execution_count": 95,
   "metadata": {},
   "outputs": [],
   "source": [
    "cols = ['yr','season_Spring', 'season_Winter', 'mnth_Sept',\n",
    "       'weathersit_LightRain_LightSnow_Thunderstorm',\n",
    "       'weathersit_Mist_Cloudy', 'temp', 'holiday','weekday_Sun']"
   ]
  },
  {
   "cell_type": "code",
   "execution_count": 96,
   "metadata": {},
   "outputs": [
    {
     "name": "stdout",
     "output_type": "stream",
     "text": [
      "                            OLS Regression Results                            \n",
      "==============================================================================\n",
      "Dep. Variable:                    cnt   R-squared:                       0.823\n",
      "Model:                            OLS   Adj. R-squared:                  0.819\n",
      "Method:                 Least Squares   F-statistic:                     258.2\n",
      "Date:                Mon, 07 Jun 2021   Prob (F-statistic):          7.64e-182\n",
      "Time:                        15:57:18   Log-Likelihood:                -4154.7\n",
      "No. Observations:                 511   AIC:                             8329.\n",
      "Df Residuals:                     501   BIC:                             8372.\n",
      "Df Model:                           9                                         \n",
      "Covariance Type:            nonrobust                                         \n",
      "===============================================================================================================\n",
      "                                                  coef    std err          t      P>|t|      [0.025      0.975]\n",
      "---------------------------------------------------------------------------------------------------------------\n",
      "const                                        1921.0127    189.760     10.123      0.000    1548.189    2293.837\n",
      "yr                                           2040.9435     74.091     27.546      0.000    1895.375    2186.511\n",
      "season_Spring                               -1010.6981    135.888     -7.438      0.000   -1277.679    -743.717\n",
      "season_Winter                                 498.0524    110.379      4.512      0.000     281.190     714.915\n",
      "mnth_Sept                                     650.7785    139.129      4.678      0.000     377.430     924.126\n",
      "weathersit_LightRain_LightSnow_Thunderstorm -2667.3539    222.079    -12.011      0.000   -3103.675   -2231.032\n",
      "weathersit_Mist_Cloudy                       -680.7747     78.849     -8.634      0.000    -835.690    -525.859\n",
      "temp                                         3720.7869    254.660     14.611      0.000    3220.454    4221.119\n",
      "holiday                                      -934.5923    235.649     -3.966      0.000   -1397.574    -471.610\n",
      "weekday_Sun                                  -432.8981    105.598     -4.099      0.000    -640.368    -225.428\n",
      "==============================================================================\n",
      "Omnibus:                       70.758   Durbin-Watson:                   2.060\n",
      "Prob(Omnibus):                  0.000   Jarque-Bera (JB):              198.596\n",
      "Skew:                          -0.671   Prob(JB):                     7.51e-44\n",
      "Kurtosis:                       5.744   Cond. No.                         12.6\n",
      "==============================================================================\n",
      "\n",
      "Warnings:\n",
      "[1] Standard Errors assume that the covariance matrix of the errors is correctly specified.\n"
     ]
    }
   ],
   "source": [
    "X_train_sm12 = sm.add_constant(X_train[cols])\n",
    "lm = sm.OLS(y_train, X_train_sm12).fit()\n",
    "print(lm.summary())"
   ]
  },
  {
   "cell_type": "code",
   "execution_count": 97,
   "metadata": {},
   "outputs": [
    {
     "name": "stdout",
     "output_type": "stream",
     "text": [
      "                                      Features   VIF\n",
      "6                                         temp  2.49\n",
      "0                                           yr  2.04\n",
      "5                       weathersit_Mist_Cloudy  1.49\n",
      "2                                season_Winter  1.31\n",
      "1                                season_Spring  1.25\n",
      "8                                  weekday_Sun  1.17\n",
      "3                                    mnth_Sept  1.15\n",
      "4  weathersit_LightRain_LightSnow_Thunderstorm  1.07\n",
      "7                                      holiday  1.05\n"
     ]
    }
   ],
   "source": [
    "vif = pd.DataFrame()\n",
    "vif['Features'] = X_train[cols].columns\n",
    "vif['VIF'] = [variance_inflation_factor(X_train[cols].values, i) for i in range(X_train[cols].shape[1])]\n",
    "vif['VIF'] = round(vif['VIF'],2)\n",
    "print(vif.sort_values(by='VIF',ascending=False))"
   ]
  },
  {
   "cell_type": "markdown",
   "metadata": {},
   "source": [
    "Analysis - \n",
    "Selecting this model because of the following reasons :\n",
    "- p value for all variables is 0.0 and R2 is 0.823\n",
    "- VIF for all the variables is almost in acceptable range which means no multicollinearity\n",
    "- Difference between R-squared and Adjusted R-squared values for this model is veryless, which also means that there are no additional parameters that can be removed from this model."
   ]
  },
  {
   "cell_type": "markdown",
   "metadata": {},
   "source": [
    "#### Building the final model using sklearn "
   ]
  },
  {
   "cell_type": "code",
   "execution_count": 98,
   "metadata": {},
   "outputs": [],
   "source": [
    "cols = ['yr','season_Spring', 'season_Winter', 'mnth_Sept',\n",
    "       'weathersit_LightRain_LightSnow_Thunderstorm',\n",
    "       'weathersit_Mist_Cloudy', 'temp', 'holiday','weekday_Sun']"
   ]
  },
  {
   "cell_type": "code",
   "execution_count": 99,
   "metadata": {},
   "outputs": [
    {
     "data": {
      "text/plain": [
       "LinearRegression(copy_X=True, fit_intercept=True, n_jobs=None, normalize=False)"
      ]
     },
     "execution_count": 99,
     "metadata": {},
     "output_type": "execute_result"
    }
   ],
   "source": [
    "lr = LinearRegression()\n",
    "lr.fit(X_train[cols], y_train)"
   ]
  },
  {
   "cell_type": "code",
   "execution_count": 100,
   "metadata": {},
   "outputs": [
    {
     "name": "stdout",
     "output_type": "stream",
     "text": [
      "[ 2040.94346875 -1010.69805025   498.05235418   650.77848391\n",
      " -2667.35392644  -680.77466435  3720.78685721  -934.59229436\n",
      "  -432.89807784]\n"
     ]
    }
   ],
   "source": [
    "print(lr.coef_)"
   ]
  },
  {
   "cell_type": "code",
   "execution_count": 101,
   "metadata": {},
   "outputs": [
    {
     "name": "stdout",
     "output_type": "stream",
     "text": [
      "1921.01265141135\n"
     ]
    }
   ],
   "source": [
    "print(lr.intercept_)"
   ]
  },
  {
   "cell_type": "code",
   "execution_count": 102,
   "metadata": {},
   "outputs": [
    {
     "data": {
      "text/html": [
       "<div>\n",
       "<style scoped>\n",
       "    .dataframe tbody tr th:only-of-type {\n",
       "        vertical-align: middle;\n",
       "    }\n",
       "\n",
       "    .dataframe tbody tr th {\n",
       "        vertical-align: top;\n",
       "    }\n",
       "\n",
       "    .dataframe thead th {\n",
       "        text-align: right;\n",
       "    }\n",
       "</style>\n",
       "<table border=\"1\" class=\"dataframe\">\n",
       "  <thead>\n",
       "    <tr style=\"text-align: right;\">\n",
       "      <th></th>\n",
       "      <th>Coefficient</th>\n",
       "    </tr>\n",
       "  </thead>\n",
       "  <tbody>\n",
       "    <tr>\n",
       "      <th>yr</th>\n",
       "      <td>2040.943469</td>\n",
       "    </tr>\n",
       "    <tr>\n",
       "      <th>season_Spring</th>\n",
       "      <td>-1010.698050</td>\n",
       "    </tr>\n",
       "    <tr>\n",
       "      <th>season_Winter</th>\n",
       "      <td>498.052354</td>\n",
       "    </tr>\n",
       "    <tr>\n",
       "      <th>mnth_Sept</th>\n",
       "      <td>650.778484</td>\n",
       "    </tr>\n",
       "    <tr>\n",
       "      <th>weathersit_LightRain_LightSnow_Thunderstorm</th>\n",
       "      <td>-2667.353926</td>\n",
       "    </tr>\n",
       "    <tr>\n",
       "      <th>weathersit_Mist_Cloudy</th>\n",
       "      <td>-680.774664</td>\n",
       "    </tr>\n",
       "    <tr>\n",
       "      <th>temp</th>\n",
       "      <td>3720.786857</td>\n",
       "    </tr>\n",
       "    <tr>\n",
       "      <th>holiday</th>\n",
       "      <td>-934.592294</td>\n",
       "    </tr>\n",
       "    <tr>\n",
       "      <th>weekday_Sun</th>\n",
       "      <td>-432.898078</td>\n",
       "    </tr>\n",
       "  </tbody>\n",
       "</table>\n",
       "</div>"
      ],
      "text/plain": [
       "                                             Coefficient\n",
       "yr                                           2040.943469\n",
       "season_Spring                               -1010.698050\n",
       "season_Winter                                 498.052354\n",
       "mnth_Sept                                     650.778484\n",
       "weathersit_LightRain_LightSnow_Thunderstorm -2667.353926\n",
       "weathersit_Mist_Cloudy                       -680.774664\n",
       "temp                                         3720.786857\n",
       "holiday                                      -934.592294\n",
       "weekday_Sun                                  -432.898078"
      ]
     },
     "execution_count": 102,
     "metadata": {},
     "output_type": "execute_result"
    }
   ],
   "source": [
    "coeff_df = pd.DataFrame(lr.coef_,X_train[cols].columns,columns=['Coefficient'])\n",
    "coeff_df"
   ]
  },
  {
   "cell_type": "markdown",
   "metadata": {},
   "source": [
    "## 8. Model Evaluation"
   ]
  },
  {
   "cell_type": "markdown",
   "metadata": {},
   "source": [
    "#### Residual Analysis "
   ]
  },
  {
   "cell_type": "code",
   "execution_count": 103,
   "metadata": {},
   "outputs": [],
   "source": [
    "#predicting for the training data set\n",
    "y_train_pred = lr.predict(X_train[cols])"
   ]
  },
  {
   "cell_type": "code",
   "execution_count": 104,
   "metadata": {},
   "outputs": [],
   "source": [
    "#residual\n",
    "res = y_train - y_train_pred"
   ]
  },
  {
   "cell_type": "code",
   "execution_count": 105,
   "metadata": {},
   "outputs": [
    {
     "data": {
      "image/png": "[encoded data removed]",
      "text/plain": [
       "<Figure size 432x288 with 1 Axes>"
      ]
     },
     "metadata": {
      "needs_background": "light"
     },
     "output_type": "display_data"
    }
   ],
   "source": [
    "#plotting the histogram of the error terms\n",
    "sns.distplot(res)\n",
    "plt.title('Error Terms')\n",
    "plt.xlabel('Errors')\n",
    "plt.show()"
   ]
  },
  {
   "cell_type": "markdown",
   "metadata": {},
   "source": [
    "Analysis -\n",
    "- From the histogram, we can see that the residuals are normally distributed. Hence, our assumption is valid."
   ]
  },
  {
   "cell_type": "markdown",
   "metadata": {},
   "source": [
    "#### Linear Relationship "
   ]
  },
  {
   "cell_type": "code",
   "execution_count": 106,
   "metadata": {},
   "outputs": [
    {
     "data": {
      "image/png": "[encoded data removed]",
      "text/plain": [
       "<Figure size 432x288 with 1 Axes>"
      ]
     },
     "metadata": {
      "needs_background": "light"
     },
     "output_type": "display_data"
    }
   ],
   "source": [
    "#plotting the sctter plot for residuals\n",
    "plt.scatter(y_train,res)\n",
    "plt.ylabel(\"y_train\")\n",
    "plt.xlabel(\"Residual\")\n",
    "plt.show()"
   ]
  },
  {
   "cell_type": "markdown",
   "metadata": {},
   "source": [
    "#### Homoscedasticity"
   ]
  },
  {
   "cell_type": "code",
   "execution_count": 107,
   "metadata": {},
   "outputs": [
    {
     "data": {
      "text/plain": [
       "Text(0, 0.5, 'y_train_pred')"
      ]
     },
     "execution_count": 107,
     "metadata": {},
     "output_type": "execute_result"
    },
    {
     "data": {
      "image/png": "[encoded data removed]",
      "text/plain": [
       "<Figure size 432x288 with 1 Axes>"
      ]
     },
     "metadata": {
      "needs_background": "light"
     },
     "output_type": "display_data"
    }
   ],
   "source": [
    "plt.scatter(y_train, y_train_pred)\n",
    "plt.title('y_train vs y_train_pred')             \n",
    "plt.xlabel('y_train')                         \n",
    "plt.ylabel('y_train_pred')"
   ]
  },
  {
   "cell_type": "markdown",
   "metadata": {},
   "source": [
    "Analysis -\n",
    "- We can observe that variance of the residuals (error terms) is constant across predictions. i.e error term does not vary much as the value of the predictor variable changes."
   ]
  },
  {
   "cell_type": "markdown",
   "metadata": {},
   "source": [
    "#### Multicollinearity"
   ]
  },
  {
   "cell_type": "code",
   "execution_count": 108,
   "metadata": {},
   "outputs": [
    {
     "name": "stdout",
     "output_type": "stream",
     "text": [
      "                                      Features   VIF\n",
      "6                                         temp  2.49\n",
      "0                                           yr  2.04\n",
      "5                       weathersit_Mist_Cloudy  1.49\n",
      "2                                season_Winter  1.31\n",
      "1                                season_Spring  1.25\n",
      "8                                  weekday_Sun  1.17\n",
      "3                                    mnth_Sept  1.15\n",
      "4  weathersit_LightRain_LightSnow_Thunderstorm  1.07\n",
      "7                                      holiday  1.05\n"
     ]
    }
   ],
   "source": [
    "vif = pd.DataFrame()\n",
    "vif['Features'] = X_train[cols].columns\n",
    "vif['VIF'] = [variance_inflation_factor(X_train[cols].values, i) for i in range(X_train[cols].shape[1])]\n",
    "vif['VIF'] = round(vif['VIF'],2)\n",
    "print(vif.sort_values(by='VIF',ascending=False))"
   ]
  },
  {
   "cell_type": "markdown",
   "metadata": {},
   "source": [
    "Analysis -\n",
    "- From the VIF calculation, we could find that there is no multicollinearity existing between the predictor variables, as all the values are within permissible range of below 5."
   ]
  },
  {
   "cell_type": "markdown",
   "metadata": {},
   "source": [
    "## 9. Making Predictions"
   ]
  },
  {
   "cell_type": "markdown",
   "metadata": {},
   "source": [
    "#### Predicting the values for the test dataset"
   ]
  },
  {
   "cell_type": "code",
   "execution_count": 109,
   "metadata": {},
   "outputs": [],
   "source": [
    "#scaling the variables in X_test\n",
    "num_vars = ['temp','atemp','hum','windspeed','days_old']\n",
    "\n",
    "#test data will only be transformed and not fit\n",
    "X_test[num_vars] = scaler.transform(X_test[num_vars])"
   ]
  },
  {
   "cell_type": "code",
   "execution_count": 110,
   "metadata": {},
   "outputs": [],
   "source": [
    "#columns for our final model\n",
    "cols = ['yr','season_Spring', 'season_Winter', 'mnth_Sept',\n",
    "       'weathersit_LightRain_LightSnow_Thunderstorm',\n",
    "       'weathersit_Mist_Cloudy', 'temp', 'holiday','weekday_Sun']"
   ]
  },
  {
   "cell_type": "code",
   "execution_count": 111,
   "metadata": {},
   "outputs": [],
   "source": [
    "#predicting the values for test dataset\n",
    "y_test_pred = lr.predict(X_test[cols])"
   ]
  },
  {
   "cell_type": "markdown",
   "metadata": {},
   "source": [
    "#### R-Squared value for the test dataset "
   ]
  },
  {
   "cell_type": "code",
   "execution_count": 112,
   "metadata": {},
   "outputs": [
    {
     "data": {
      "text/plain": [
       "0.8102939676082294"
      ]
     },
     "execution_count": 112,
     "metadata": {},
     "output_type": "execute_result"
    }
   ],
   "source": [
    "r2_score(y_test,y_test_pred)"
   ]
  },
  {
   "cell_type": "markdown",
   "metadata": {},
   "source": [
    "Analysis -\n",
    "- R2 value for predictions on test dataset(0.810) is similar to R2 value of training dataset(0.823). This is a good R-squared value, hence we can see our model is performing good even on test dataset."
   ]
  },
  {
   "cell_type": "markdown",
   "metadata": {},
   "source": [
    "## 10. Final Interpretations "
   ]
  },
  {
   "cell_type": "code",
   "execution_count": 113,
   "metadata": {},
   "outputs": [
    {
     "data": {
      "text/html": [
       "<div>\n",
       "<style scoped>\n",
       "    .dataframe tbody tr th:only-of-type {\n",
       "        vertical-align: middle;\n",
       "    }\n",
       "\n",
       "    .dataframe tbody tr th {\n",
       "        vertical-align: top;\n",
       "    }\n",
       "\n",
       "    .dataframe thead th {\n",
       "        text-align: right;\n",
       "    }\n",
       "</style>\n",
       "<table border=\"1\" class=\"dataframe\">\n",
       "  <thead>\n",
       "    <tr style=\"text-align: right;\">\n",
       "      <th></th>\n",
       "      <th>Coefficient</th>\n",
       "    </tr>\n",
       "  </thead>\n",
       "  <tbody>\n",
       "    <tr>\n",
       "      <th>yr</th>\n",
       "      <td>2040.943469</td>\n",
       "    </tr>\n",
       "    <tr>\n",
       "      <th>season_Spring</th>\n",
       "      <td>-1010.698050</td>\n",
       "    </tr>\n",
       "    <tr>\n",
       "      <th>season_Winter</th>\n",
       "      <td>498.052354</td>\n",
       "    </tr>\n",
       "    <tr>\n",
       "      <th>mnth_Sept</th>\n",
       "      <td>650.778484</td>\n",
       "    </tr>\n",
       "    <tr>\n",
       "      <th>weathersit_LightRain_LightSnow_Thunderstorm</th>\n",
       "      <td>-2667.353926</td>\n",
       "    </tr>\n",
       "    <tr>\n",
       "      <th>weathersit_Mist_Cloudy</th>\n",
       "      <td>-680.774664</td>\n",
       "    </tr>\n",
       "    <tr>\n",
       "      <th>temp</th>\n",
       "      <td>3720.786857</td>\n",
       "    </tr>\n",
       "    <tr>\n",
       "      <th>holiday</th>\n",
       "      <td>-934.592294</td>\n",
       "    </tr>\n",
       "    <tr>\n",
       "      <th>weekday_Sun</th>\n",
       "      <td>-432.898078</td>\n",
       "    </tr>\n",
       "  </tbody>\n",
       "</table>\n",
       "</div>"
      ],
      "text/plain": [
       "                                             Coefficient\n",
       "yr                                           2040.943469\n",
       "season_Spring                               -1010.698050\n",
       "season_Winter                                 498.052354\n",
       "mnth_Sept                                     650.778484\n",
       "weathersit_LightRain_LightSnow_Thunderstorm -2667.353926\n",
       "weathersit_Mist_Cloudy                       -680.774664\n",
       "temp                                         3720.786857\n",
       "holiday                                      -934.592294\n",
       "weekday_Sun                                  -432.898078"
      ]
     },
     "execution_count": 113,
     "metadata": {},
     "output_type": "execute_result"
    }
   ],
   "source": [
    "coeff_df"
   ]
  },
  {
   "cell_type": "markdown",
   "metadata": {},
   "source": [
    "#### Equation for the best fit line  "
   ]
  },
  {
   "cell_type": "markdown",
   "metadata": {},
   "source": [
    "cnt = 1921.0127 + (2040.943469*yr) + ((-1010.698050)*season_Spring) +(498.052354*season_Winter) + (650.778484*mnth_Sept) + ((-2667.353926)*weathersit_LightRain_LightSnow_Thunderstorm) + ((-680.774664)*weathersit_Mist_Cloudy) + (3720.786857*temp) + ((-934.592294)*holiday) + ((-432.898078)*weekday_Sun)"
   ]
  },
  {
   "cell_type": "markdown",
   "metadata": {},
   "source": [
    "#### Intrepretation of the equation "
   ]
  },
  {
   "cell_type": "markdown",
   "metadata": {},
   "source": [
    "- yr - Coefficient of yr indicates that a unit increase in yr variable, will increase bike hiring by 2040.943469 value.\n",
    "- season_Spring - Coefficient of season_Spring indicates that a unit increase in season_Spring variable, will decrease the bike hiring by 1010.698050 value.\n",
    "- season_Winter - Coefficient of season_Winter indicates that a unit increase in season_Winter variable, will increase bike hiring by 498.052354 value.\n",
    "- mnth_Sept - Coefficient of mnth_Sept indicates that a unit increase in mnth_Sept variable, will increase bike hiring by 650.778484 value.\n",
    "- weathersit_LightRain_LightSnow_Thunderstorm - Coefficient of weathersit_LightRain_LightSnow_Thunderstorm indicates that a unit increase in weathersit_LightRain_LightSnow_Thunderstorm variable, will decrease the bike hiring by 2667.353926 value.\n",
    "- weathersit_Mist_Cloudy - Coefficient of weathersit_Mist_Cloudy indicates that a unit increase in weathersit_Mist_Cloudy variable, will decrease the bike hiring by 680.774664 value.\n",
    "- temp - Coefficient of temp indicates that a unit increase in temp variable, will increase bike hiring by 3720.786857 value.\n",
    "- holiday - Coefficient of holiday indicates that a unit increase in holiday variable, will decrease the bike hiring by 934.592294 value.\n",
    "- weekday_Sun - Coefficient of weekday_Sun indicates that a unit increase in weekday_Sun variable, will decrease the bike hiring by 432.898078 value."
   ]
  },
  {
   "cell_type": "markdown",
   "metadata": {},
   "source": [
    "#### Significant variables to predict the demand for shared bikes"
   ]
  },
  {
   "cell_type": "markdown",
   "metadata": {},
   "source": [
    "- temp\n",
    "- yr\n",
    "- holiday\n",
    "- season\n",
    "- weekday Sunday\n",
    "- month"
   ]
  }
 ],
 "metadata": {
  "kernelspec": {
   "display_name": "Python 3",
   "language": "python",
   "name": "python3"
  },
  "language_info": {
   "codemirror_mode": {
    "name": "ipython",
    "version": 3
   },
   "file_extension": ".py",
   "mimetype": "text/x-python",
   "name": "python",
   "nbconvert_exporter": "python",
   "pygments_lexer": "ipython3",
   "version": "3.7.6"
  }
 },
 "nbformat": 4,
 "nbformat_minor": 4
}
